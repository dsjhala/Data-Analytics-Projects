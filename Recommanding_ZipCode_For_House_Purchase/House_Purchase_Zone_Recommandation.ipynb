{
 "cells": [
  {
   "cell_type": "markdown",
   "metadata": {},
   "source": [
    "### Mission- \n",
    "    Identification of zipcodes to buy houses with pupose of maixmizing appreciation\n",
    "\n",
    "### Dataset-\n",
    "    We have a dataset which contains details about the following attributes of the houses:\n",
    "        id-Id of the record\n",
    "        date- date of record entry\n",
    "        price- price of the house\n",
    "        bedrooms- number of bedrooms\n",
    "        bathrooms- number of barthrooms\n",
    "        sq_feet- size of the house\n",
    "        year_built-\twhen the house was built\n",
    "\n",
    "### Assumptions-\n",
    "    1) Age: Ideally Newer House means its in better condition (which might not always be true)\n",
    "    2) Population Interest: Since we do not have demand/search_queries attempts related to each zipcode we \n",
    "         consider that each zipcode is receiving equal amount of user's traffic\n",
    "    3) Location: Each Location is equally good in terms of job opportunites, Crime Rate, Schools, Malls etc.       \n",
    "### Method-\n",
    "#### 1) Load Data & Identify Issues\n",
    "        1.1) SneakPeak\n",
    "        1.2) Duplicate Entries\n",
    "        1.3) Not missing but 0.0\n",
    "        1.4) Missing values\n",
    "     \n",
    "#### 2) Renew/New Features\n",
    "        2.1) Cost Feature(Low,Medium,High,Cost_Outlier)\n",
    "        2.2) Square Feet (Small, Medium, Big, Size_Outlier)\n",
    "        2.3) Age (Very_Old, Old, Few_Years, Recent)\n",
    "        2.4) Bath to Bed Ratio (Low, Fare, Good, Very_Good)\n",
    "        2.5) Bed Number (Low, Fare, Good, Very_Good)\n",
    "\n",
    "#### 3) ZipCode Ranking\n",
    "        3.1) Good Deals Counter\n",
    "        3.2) Conclusion\n",
    "\n",
    "\n",
    "--------------------------------"
   ]
  },
  {
   "cell_type": "markdown",
   "metadata": {},
   "source": [
    "### 1) Load Data & Identify Issues\n",
    "#### 1.1) SneakPeak"
   ]
  },
  {
   "cell_type": "code",
   "execution_count": 1,
   "metadata": {},
   "outputs": [
    {
     "name": "stdout",
     "output_type": "stream",
     "text": [
      "<class 'pandas.core.frame.DataFrame'>\n",
      "RangeIndex: 21951 entries, 0 to 21950\n",
      "Data columns (total 8 columns):\n",
      "id            21951 non-null int64\n",
      "date          21951 non-null object\n",
      "price         19644 non-null float64\n",
      "bedrooms      19635 non-null float64\n",
      "bathrooms     19646 non-null float64\n",
      "sq_feet       19644 non-null float64\n",
      "year_built    19371 non-null float64\n",
      "zipcode       21951 non-null int64\n",
      "dtypes: float64(5), int64(2), object(1)\n",
      "memory usage: 1.3+ MB\n",
      "None\n"
     ]
    },
    {
     "data": {
      "text/html": [
       "<div>\n",
       "<style>\n",
       "    .dataframe thead tr:only-child th {\n",
       "        text-align: right;\n",
       "    }\n",
       "\n",
       "    .dataframe thead th {\n",
       "        text-align: left;\n",
       "    }\n",
       "\n",
       "    .dataframe tbody tr th {\n",
       "        vertical-align: top;\n",
       "    }\n",
       "</style>\n",
       "<table border=\"1\" class=\"dataframe\">\n",
       "  <thead>\n",
       "    <tr style=\"text-align: right;\">\n",
       "      <th></th>\n",
       "      <th>id</th>\n",
       "      <th>date</th>\n",
       "      <th>price</th>\n",
       "      <th>bedrooms</th>\n",
       "      <th>bathrooms</th>\n",
       "      <th>sq_feet</th>\n",
       "      <th>year_built</th>\n",
       "      <th>zipcode</th>\n",
       "    </tr>\n",
       "  </thead>\n",
       "  <tbody>\n",
       "    <tr>\n",
       "      <th>0</th>\n",
       "      <td>12134069</td>\n",
       "      <td>2012-01-01</td>\n",
       "      <td>469995.0</td>\n",
       "      <td>3.0</td>\n",
       "      <td>NaN</td>\n",
       "      <td>1140.0</td>\n",
       "      <td>1978.0</td>\n",
       "      <td>98045</td>\n",
       "    </tr>\n",
       "    <tr>\n",
       "      <th>1</th>\n",
       "      <td>184970377</td>\n",
       "      <td>2012-01-03</td>\n",
       "      <td>280000.0</td>\n",
       "      <td>3.0</td>\n",
       "      <td>2.0</td>\n",
       "      <td>1290.0</td>\n",
       "      <td>1957.0</td>\n",
       "      <td>98028</td>\n",
       "    </tr>\n",
       "    <tr>\n",
       "      <th>2</th>\n",
       "      <td>158428665</td>\n",
       "      <td>2012-01-03</td>\n",
       "      <td>340000.0</td>\n",
       "      <td>NaN</td>\n",
       "      <td>3.0</td>\n",
       "      <td>1820.0</td>\n",
       "      <td>1918.0</td>\n",
       "      <td>98126</td>\n",
       "    </tr>\n",
       "    <tr>\n",
       "      <th>3</th>\n",
       "      <td>185568959</td>\n",
       "      <td>2012-01-03</td>\n",
       "      <td>425000.0</td>\n",
       "      <td>3.0</td>\n",
       "      <td>2.0</td>\n",
       "      <td>1650.0</td>\n",
       "      <td>1977.0</td>\n",
       "      <td>98052</td>\n",
       "    </tr>\n",
       "    <tr>\n",
       "      <th>4</th>\n",
       "      <td>142701463</td>\n",
       "      <td>2012-01-03</td>\n",
       "      <td>396000.0</td>\n",
       "      <td>3.0</td>\n",
       "      <td>2.0</td>\n",
       "      <td>970.0</td>\n",
       "      <td>1968.0</td>\n",
       "      <td>98034</td>\n",
       "    </tr>\n",
       "  </tbody>\n",
       "</table>\n",
       "</div>"
      ],
      "text/plain": [
       "          id        date     price  bedrooms  bathrooms  sq_feet  year_built  \\\n",
       "0   12134069  2012-01-01  469995.0       3.0        NaN   1140.0      1978.0   \n",
       "1  184970377  2012-01-03  280000.0       3.0        2.0   1290.0      1957.0   \n",
       "2  158428665  2012-01-03  340000.0       NaN        3.0   1820.0      1918.0   \n",
       "3  185568959  2012-01-03  425000.0       3.0        2.0   1650.0      1977.0   \n",
       "4  142701463  2012-01-03  396000.0       3.0        2.0    970.0      1968.0   \n",
       "\n",
       "   zipcode  \n",
       "0    98045  \n",
       "1    98028  \n",
       "2    98126  \n",
       "3    98052  \n",
       "4    98034  "
      ]
     },
     "execution_count": 1,
     "metadata": {},
     "output_type": "execute_result"
    }
   ],
   "source": [
    "# Importing Rquired Libraries\n",
    "import sqlite3\n",
    "import pandas as pd\n",
    "import matplotlib.pyplot as plt\n",
    "import seaborn as sns\n",
    "import warnings\n",
    "warnings.filterwarnings('ignore')\n",
    "%matplotlib inline\n",
    "# Fetch data from sqllite db into pandas dataframe\n",
    "conn = sqlite3.connect('data.db')\n",
    "cur = conn.cursor()\n",
    "cur.execute('select * from home_prices')\n",
    "col=['id','date','price','bedrooms','bathrooms','sq_feet','year_built','zipcode']\n",
    "data = pd.DataFrame(cur.fetchall(), columns=col)\n",
    "print(data.info())\n",
    "data.head()"
   ]
  },
  {
   "cell_type": "markdown",
   "metadata": {},
   "source": [
    "##### There are total 21951 entries in dataset all of our datatypes are numeric except date. key features such as \"price\",\"bedrooms\",\"bathrooms\",'sq_feet','year_built' all have missing values which needs to be take care of!\n",
    "\n",
    "-------\n",
    "##### As per the american census average american family size is 3.14, so lets consider houses from atleast 1 bedrooms to a maximum of 6 bedrooms & avoid the outliers. "
   ]
  },
  {
   "cell_type": "code",
   "execution_count": 2,
   "metadata": {},
   "outputs": [
    {
     "data": {
      "image/png": "[encoded data removed]",
      "text/plain": [
       "<matplotlib.figure.Figure at 0x10f1bce90>"
      ]
     },
     "metadata": {},
     "output_type": "display_data"
    }
   ],
   "source": [
    "plt.figure(figsize=(10,5))\n",
    "plt.title(\"Before Filtering\")\n",
    "sns.countplot(data['bedrooms'])\n",
    "data=data[(data['bedrooms']>0)&(data['bedrooms']<7)]"
   ]
  },
  {
   "cell_type": "code",
   "execution_count": 3,
   "metadata": {},
   "outputs": [
    {
     "data": {
      "text/plain": [
       "<matplotlib.axes._subplots.AxesSubplot at 0x10f1bcbd0>"
      ]
     },
     "execution_count": 3,
     "metadata": {},
     "output_type": "execute_result"
    },
    {
     "data": {
      "image/png": "[encoded data removed]",
      "text/plain": [
       "<matplotlib.figure.Figure at 0x10f1bcb90>"
      ]
     },
     "metadata": {},
     "output_type": "display_data"
    }
   ],
   "source": [
    "plt.figure(figsize=(10,5))\n",
    "plt.title(\"After Filtering\")\n",
    "sns.countplot(data['bedrooms'])"
   ]
  },
  {
   "cell_type": "markdown",
   "metadata": {},
   "source": [
    "#### 1.2) Duplicate Entries"
   ]
  },
  {
   "cell_type": "code",
   "execution_count": 4,
   "metadata": {},
   "outputs": [
    {
     "name": "stdout",
     "output_type": "stream",
     "text": [
      "('Number of duplicate Records!', 283)\n",
      "Example of duplicate Records:\n"
     ]
    },
    {
     "data": {
      "text/html": [
       "<div>\n",
       "<style>\n",
       "    .dataframe thead tr:only-child th {\n",
       "        text-align: right;\n",
       "    }\n",
       "\n",
       "    .dataframe thead th {\n",
       "        text-align: left;\n",
       "    }\n",
       "\n",
       "    .dataframe tbody tr th {\n",
       "        vertical-align: top;\n",
       "    }\n",
       "</style>\n",
       "<table border=\"1\" class=\"dataframe\">\n",
       "  <thead>\n",
       "    <tr style=\"text-align: right;\">\n",
       "      <th></th>\n",
       "      <th>id</th>\n",
       "      <th>date</th>\n",
       "      <th>price</th>\n",
       "      <th>bedrooms</th>\n",
       "      <th>bathrooms</th>\n",
       "      <th>sq_feet</th>\n",
       "      <th>year_built</th>\n",
       "      <th>zipcode</th>\n",
       "    </tr>\n",
       "  </thead>\n",
       "  <tbody>\n",
       "    <tr>\n",
       "      <th>1415</th>\n",
       "      <td>20660122</td>\n",
       "      <td>2012-06-29</td>\n",
       "      <td>219950.0</td>\n",
       "      <td>2.0</td>\n",
       "      <td>2.0</td>\n",
       "      <td>1230.0</td>\n",
       "      <td>1945.0</td>\n",
       "      <td>98014</td>\n",
       "    </tr>\n",
       "    <tr>\n",
       "      <th>2947</th>\n",
       "      <td>20660122</td>\n",
       "      <td>2012-12-18</td>\n",
       "      <td>NaN</td>\n",
       "      <td>2.0</td>\n",
       "      <td>2.0</td>\n",
       "      <td>1230.0</td>\n",
       "      <td>1945.0</td>\n",
       "      <td>98014</td>\n",
       "    </tr>\n",
       "    <tr>\n",
       "      <th>3761</th>\n",
       "      <td>142085818</td>\n",
       "      <td>2013-04-02</td>\n",
       "      <td>300000.0</td>\n",
       "      <td>4.0</td>\n",
       "      <td>3.0</td>\n",
       "      <td>1170.0</td>\n",
       "      <td>1969.0</td>\n",
       "      <td>98031</td>\n",
       "    </tr>\n",
       "    <tr>\n",
       "      <th>4578</th>\n",
       "      <td>142085818</td>\n",
       "      <td>2013-06-13</td>\n",
       "      <td>NaN</td>\n",
       "      <td>4.0</td>\n",
       "      <td>3.0</td>\n",
       "      <td>1170.0</td>\n",
       "      <td>1969.0</td>\n",
       "      <td>98031</td>\n",
       "    </tr>\n",
       "    <tr>\n",
       "      <th>712</th>\n",
       "      <td>185577037</td>\n",
       "      <td>2012-04-16</td>\n",
       "      <td>369000.0</td>\n",
       "      <td>3.0</td>\n",
       "      <td>2.0</td>\n",
       "      <td>870.0</td>\n",
       "      <td>1950.0</td>\n",
       "      <td>98126</td>\n",
       "    </tr>\n",
       "    <tr>\n",
       "      <th>1233</th>\n",
       "      <td>185577037</td>\n",
       "      <td>2012-06-13</td>\n",
       "      <td>369000.0</td>\n",
       "      <td>3.0</td>\n",
       "      <td>2.0</td>\n",
       "      <td>870.0</td>\n",
       "      <td>1950.0</td>\n",
       "      <td>98126</td>\n",
       "    </tr>\n",
       "    <tr>\n",
       "      <th>2770</th>\n",
       "      <td>217060706</td>\n",
       "      <td>2012-12-03</td>\n",
       "      <td>449950.0</td>\n",
       "      <td>4.0</td>\n",
       "      <td>3.0</td>\n",
       "      <td>1986.0</td>\n",
       "      <td>2012.0</td>\n",
       "      <td>98092</td>\n",
       "    </tr>\n",
       "    <tr>\n",
       "      <th>21474</th>\n",
       "      <td>217060706</td>\n",
       "      <td>2017-11-07</td>\n",
       "      <td>NaN</td>\n",
       "      <td>4.0</td>\n",
       "      <td>3.0</td>\n",
       "      <td>1986.0</td>\n",
       "      <td>2012.0</td>\n",
       "      <td>98092</td>\n",
       "    </tr>\n",
       "  </tbody>\n",
       "</table>\n",
       "</div>"
      ],
      "text/plain": [
       "              id        date     price  bedrooms  bathrooms  sq_feet  \\\n",
       "1415    20660122  2012-06-29  219950.0       2.0        2.0   1230.0   \n",
       "2947    20660122  2012-12-18       NaN       2.0        2.0   1230.0   \n",
       "3761   142085818  2013-04-02  300000.0       4.0        3.0   1170.0   \n",
       "4578   142085818  2013-06-13       NaN       4.0        3.0   1170.0   \n",
       "712    185577037  2012-04-16  369000.0       3.0        2.0    870.0   \n",
       "1233   185577037  2012-06-13  369000.0       3.0        2.0    870.0   \n",
       "2770   217060706  2012-12-03  449950.0       4.0        3.0   1986.0   \n",
       "21474  217060706  2017-11-07       NaN       4.0        3.0   1986.0   \n",
       "\n",
       "       year_built  zipcode  \n",
       "1415       1945.0    98014  \n",
       "2947       1945.0    98014  \n",
       "3761       1969.0    98031  \n",
       "4578       1969.0    98031  \n",
       "712        1950.0    98126  \n",
       "1233       1950.0    98126  \n",
       "2770       2012.0    98092  \n",
       "21474      2012.0    98092  "
      ]
     },
     "execution_count": 4,
     "metadata": {},
     "output_type": "execute_result"
    }
   ],
   "source": [
    "## Duplication data\n",
    "print(\"Number of duplicate Records!\",len(data[data.duplicated(['id'])]))\n",
    "print(\"Example of duplicate Records:\")\n",
    "dups=data[(data['id']==20660122) | (data['id']==185577037)| (data['id']==142085818) |(data['id']==217060706)]\n",
    "dups.sort_values(by='id')"
   ]
  },
  {
   "cell_type": "markdown",
   "metadata": {},
   "source": [
    "##### Drop the duplicates & keep the 1st occurances only because from my analysis i undestood that either both entries are exact same or the second entry contains the null for price & rest all feature are same. SO LETS KEEP ONLY THE FIRST ENTRY!"
   ]
  },
  {
   "cell_type": "code",
   "execution_count": 5,
   "metadata": {},
   "outputs": [
    {
     "name": "stdout",
     "output_type": "stream",
     "text": [
      "('Number of duplicate Records!', 0)\n"
     ]
    },
    {
     "data": {
      "text/html": [
       "<div>\n",
       "<style>\n",
       "    .dataframe thead tr:only-child th {\n",
       "        text-align: right;\n",
       "    }\n",
       "\n",
       "    .dataframe thead th {\n",
       "        text-align: left;\n",
       "    }\n",
       "\n",
       "    .dataframe tbody tr th {\n",
       "        vertical-align: top;\n",
       "    }\n",
       "</style>\n",
       "<table border=\"1\" class=\"dataframe\">\n",
       "  <thead>\n",
       "    <tr style=\"text-align: right;\">\n",
       "      <th></th>\n",
       "      <th>id</th>\n",
       "      <th>date</th>\n",
       "      <th>price</th>\n",
       "      <th>bedrooms</th>\n",
       "      <th>bathrooms</th>\n",
       "      <th>sq_feet</th>\n",
       "      <th>year_built</th>\n",
       "      <th>zipcode</th>\n",
       "    </tr>\n",
       "  </thead>\n",
       "  <tbody>\n",
       "    <tr>\n",
       "      <th>0</th>\n",
       "      <td>12134069</td>\n",
       "      <td>2012-01-01</td>\n",
       "      <td>469995.0</td>\n",
       "      <td>3.0</td>\n",
       "      <td>NaN</td>\n",
       "      <td>1140.0</td>\n",
       "      <td>1978.0</td>\n",
       "      <td>98045</td>\n",
       "    </tr>\n",
       "    <tr>\n",
       "      <th>1</th>\n",
       "      <td>184970377</td>\n",
       "      <td>2012-01-03</td>\n",
       "      <td>280000.0</td>\n",
       "      <td>3.0</td>\n",
       "      <td>2.0</td>\n",
       "      <td>1290.0</td>\n",
       "      <td>1957.0</td>\n",
       "      <td>98028</td>\n",
       "    </tr>\n",
       "    <tr>\n",
       "      <th>2</th>\n",
       "      <td>185568959</td>\n",
       "      <td>2012-01-03</td>\n",
       "      <td>425000.0</td>\n",
       "      <td>3.0</td>\n",
       "      <td>2.0</td>\n",
       "      <td>1650.0</td>\n",
       "      <td>1977.0</td>\n",
       "      <td>98052</td>\n",
       "    </tr>\n",
       "    <tr>\n",
       "      <th>3</th>\n",
       "      <td>142701463</td>\n",
       "      <td>2012-01-03</td>\n",
       "      <td>396000.0</td>\n",
       "      <td>3.0</td>\n",
       "      <td>2.0</td>\n",
       "      <td>970.0</td>\n",
       "      <td>1968.0</td>\n",
       "      <td>98034</td>\n",
       "    </tr>\n",
       "    <tr>\n",
       "      <th>4</th>\n",
       "      <td>53640425</td>\n",
       "      <td>2012-01-03</td>\n",
       "      <td>NaN</td>\n",
       "      <td>4.0</td>\n",
       "      <td>4.0</td>\n",
       "      <td>2720.0</td>\n",
       "      <td>NaN</td>\n",
       "      <td>98115</td>\n",
       "    </tr>\n",
       "  </tbody>\n",
       "</table>\n",
       "</div>"
      ],
      "text/plain": [
       "          id        date     price  bedrooms  bathrooms  sq_feet  year_built  \\\n",
       "0   12134069  2012-01-01  469995.0       3.0        NaN   1140.0      1978.0   \n",
       "1  184970377  2012-01-03  280000.0       3.0        2.0   1290.0      1957.0   \n",
       "2  185568959  2012-01-03  425000.0       3.0        2.0   1650.0      1977.0   \n",
       "3  142701463  2012-01-03  396000.0       3.0        2.0    970.0      1968.0   \n",
       "4   53640425  2012-01-03       NaN       4.0        4.0   2720.0         NaN   \n",
       "\n",
       "   zipcode  \n",
       "0    98045  \n",
       "1    98028  \n",
       "2    98052  \n",
       "3    98034  \n",
       "4    98115  "
      ]
     },
     "execution_count": 5,
     "metadata": {},
     "output_type": "execute_result"
    }
   ],
   "source": [
    "data=data.drop_duplicates(subset=['id'], keep='first').reset_index(drop=True)\n",
    "print(\"Number of duplicate Records!\",len(data[data.duplicated(['id'])]))\n",
    "data.head()"
   ]
  },
  {
   "cell_type": "markdown",
   "metadata": {},
   "source": [
    "#### 1.3) Not missing but 0 !"
   ]
  },
  {
   "cell_type": "code",
   "execution_count": 6,
   "metadata": {},
   "outputs": [
    {
     "data": {
      "text/plain": [
       "<matplotlib.axes._subplots.AxesSubplot at 0x118de2210>"
      ]
     },
     "execution_count": 6,
     "metadata": {},
     "output_type": "execute_result"
    },
    {
     "data": {
      "image/png": "[encoded data removed]",
      "text/plain": [
       "<matplotlib.figure.Figure at 0x118de2090>"
      ]
     },
     "metadata": {},
     "output_type": "display_data"
    }
   ],
   "source": [
    "#Missing values\n",
    "plt.figure(figsize=(10,5))\n",
    "x=col\n",
    "p=len(data)\n",
    "y=[]\n",
    "for i in data.columns:\n",
    "    y.append(len(data[data[i]==0]))\n",
    "plt.title('% of 0 but not missing values in each columns of dataset')\n",
    "sns.barplot(x,y)"
   ]
  },
  {
   "cell_type": "markdown",
   "metadata": {},
   "source": [
    "Let's handle this issue one-by-one for each feature:"
   ]
  },
  {
   "cell_type": "markdown",
   "metadata": {},
   "source": [
    "##### Lets look at houses with 0 bathrooms "
   ]
  },
  {
   "cell_type": "code",
   "execution_count": 7,
   "metadata": {},
   "outputs": [
    {
     "data": {
      "text/html": [
       "<div>\n",
       "<style>\n",
       "    .dataframe thead tr:only-child th {\n",
       "        text-align: right;\n",
       "    }\n",
       "\n",
       "    .dataframe thead th {\n",
       "        text-align: left;\n",
       "    }\n",
       "\n",
       "    .dataframe tbody tr th {\n",
       "        vertical-align: top;\n",
       "    }\n",
       "</style>\n",
       "<table border=\"1\" class=\"dataframe\">\n",
       "  <thead>\n",
       "    <tr style=\"text-align: right;\">\n",
       "      <th></th>\n",
       "      <th>id</th>\n",
       "      <th>date</th>\n",
       "      <th>price</th>\n",
       "      <th>bedrooms</th>\n",
       "      <th>bathrooms</th>\n",
       "      <th>sq_feet</th>\n",
       "      <th>year_built</th>\n",
       "      <th>zipcode</th>\n",
       "    </tr>\n",
       "  </thead>\n",
       "  <tbody>\n",
       "    <tr>\n",
       "      <th>315</th>\n",
       "      <td>185465631</td>\n",
       "      <td>2012-02-28</td>\n",
       "      <td>NaN</td>\n",
       "      <td>1.0</td>\n",
       "      <td>0.0</td>\n",
       "      <td>560.0</td>\n",
       "      <td>1940.0</td>\n",
       "      <td>98065</td>\n",
       "    </tr>\n",
       "    <tr>\n",
       "      <th>2909</th>\n",
       "      <td>185710512</td>\n",
       "      <td>2013-02-20</td>\n",
       "      <td>NaN</td>\n",
       "      <td>2.0</td>\n",
       "      <td>0.0</td>\n",
       "      <td>945.0</td>\n",
       "      <td>2000.0</td>\n",
       "      <td>98058</td>\n",
       "    </tr>\n",
       "    <tr>\n",
       "      <th>10780</th>\n",
       "      <td>35368994</td>\n",
       "      <td>2015-08-12</td>\n",
       "      <td>296000.0</td>\n",
       "      <td>2.0</td>\n",
       "      <td>0.0</td>\n",
       "      <td>NaN</td>\n",
       "      <td>1992.0</td>\n",
       "      <td>98122</td>\n",
       "    </tr>\n",
       "  </tbody>\n",
       "</table>\n",
       "</div>"
      ],
      "text/plain": [
       "              id        date     price  bedrooms  bathrooms  sq_feet  \\\n",
       "315    185465631  2012-02-28       NaN       1.0        0.0    560.0   \n",
       "2909   185710512  2013-02-20       NaN       2.0        0.0    945.0   \n",
       "10780   35368994  2015-08-12  296000.0       2.0        0.0      NaN   \n",
       "\n",
       "       year_built  zipcode  \n",
       "315        1940.0    98065  \n",
       "2909       2000.0    98058  \n",
       "10780      1992.0    98122  "
      ]
     },
     "execution_count": 7,
     "metadata": {},
     "output_type": "execute_result"
    }
   ],
   "source": [
    "data[data['bathrooms']==0]"
   ]
  },
  {
   "cell_type": "code",
   "execution_count": 8,
   "metadata": {},
   "outputs": [
    {
     "name": "stdout",
     "output_type": "stream",
     "text": [
      "('average number of bathrooms in 2 bedrooms house', 1.8061713600958658)\n",
      "('average number of bathrooms in 2 bedrooms house', 1.1088757396449704)\n"
     ]
    }
   ],
   "source": [
    "#Lets fill this values by figuring out the average number of bathrooms in a 2 & 1 bedroom apartment\n",
    "print('average number of bathrooms in 2 bedrooms house',data['bathrooms'][data['bedrooms']==2].mean())\n",
    "print('average number of bathrooms in 2 bedrooms house',data['bathrooms'][data['bedrooms']==1].mean())\n",
    "data['bathrooms'][data['id']==185465631]=1\n",
    "data['bathrooms'][data['id']==185710512]=2\n",
    "data['bathrooms'][data['id']==35368994]=2"
   ]
  },
  {
   "cell_type": "markdown",
   "metadata": {},
   "source": [
    "##### Lets look at houses with 0 price!"
   ]
  },
  {
   "cell_type": "code",
   "execution_count": 9,
   "metadata": {},
   "outputs": [
    {
     "data": {
      "text/html": [
       "<div>\n",
       "<style>\n",
       "    .dataframe thead tr:only-child th {\n",
       "        text-align: right;\n",
       "    }\n",
       "\n",
       "    .dataframe thead th {\n",
       "        text-align: left;\n",
       "    }\n",
       "\n",
       "    .dataframe tbody tr th {\n",
       "        vertical-align: top;\n",
       "    }\n",
       "</style>\n",
       "<table border=\"1\" class=\"dataframe\">\n",
       "  <thead>\n",
       "    <tr style=\"text-align: right;\">\n",
       "      <th></th>\n",
       "      <th>id</th>\n",
       "      <th>date</th>\n",
       "      <th>price</th>\n",
       "      <th>bedrooms</th>\n",
       "      <th>bathrooms</th>\n",
       "      <th>sq_feet</th>\n",
       "      <th>year_built</th>\n",
       "      <th>zipcode</th>\n",
       "    </tr>\n",
       "  </thead>\n",
       "  <tbody>\n",
       "    <tr>\n",
       "      <th>44</th>\n",
       "      <td>149166796</td>\n",
       "      <td>2012-01-09</td>\n",
       "      <td>0.0</td>\n",
       "      <td>3.0</td>\n",
       "      <td>2.0</td>\n",
       "      <td>1070.0</td>\n",
       "      <td>1961.0</td>\n",
       "      <td>98006</td>\n",
       "    </tr>\n",
       "    <tr>\n",
       "      <th>61</th>\n",
       "      <td>152219878</td>\n",
       "      <td>2012-01-11</td>\n",
       "      <td>0.0</td>\n",
       "      <td>3.0</td>\n",
       "      <td>1.0</td>\n",
       "      <td>NaN</td>\n",
       "      <td>1955.0</td>\n",
       "      <td>98168</td>\n",
       "    </tr>\n",
       "    <tr>\n",
       "      <th>79</th>\n",
       "      <td>144008964</td>\n",
       "      <td>2012-01-17</td>\n",
       "      <td>0.0</td>\n",
       "      <td>4.0</td>\n",
       "      <td>3.0</td>\n",
       "      <td>1640.0</td>\n",
       "      <td>1973.0</td>\n",
       "      <td>98178</td>\n",
       "    </tr>\n",
       "    <tr>\n",
       "      <th>81</th>\n",
       "      <td>4432194</td>\n",
       "      <td>2012-01-17</td>\n",
       "      <td>0.0</td>\n",
       "      <td>4.0</td>\n",
       "      <td>3.0</td>\n",
       "      <td>1860.0</td>\n",
       "      <td>1992.0</td>\n",
       "      <td>98038</td>\n",
       "    </tr>\n",
       "    <tr>\n",
       "      <th>112</th>\n",
       "      <td>100127978</td>\n",
       "      <td>2012-01-25</td>\n",
       "      <td>0.0</td>\n",
       "      <td>3.0</td>\n",
       "      <td>NaN</td>\n",
       "      <td>1210.0</td>\n",
       "      <td>NaN</td>\n",
       "      <td>98108</td>\n",
       "    </tr>\n",
       "  </tbody>\n",
       "</table>\n",
       "</div>"
      ],
      "text/plain": [
       "            id        date  price  bedrooms  bathrooms  sq_feet  year_built  \\\n",
       "44   149166796  2012-01-09    0.0       3.0        2.0   1070.0      1961.0   \n",
       "61   152219878  2012-01-11    0.0       3.0        1.0      NaN      1955.0   \n",
       "79   144008964  2012-01-17    0.0       4.0        3.0   1640.0      1973.0   \n",
       "81     4432194  2012-01-17    0.0       4.0        3.0   1860.0      1992.0   \n",
       "112  100127978  2012-01-25    0.0       3.0        NaN   1210.0         NaN   \n",
       "\n",
       "     zipcode  \n",
       "44     98006  \n",
       "61     98168  \n",
       "79     98178  \n",
       "81     98038  \n",
       "112    98108  "
      ]
     },
     "execution_count": 9,
     "metadata": {},
     "output_type": "execute_result"
    }
   ],
   "source": [
    "data[data['price']==0].head()"
   ]
  },
  {
   "cell_type": "markdown",
   "metadata": {},
   "source": [
    "#### We can predict the approximate house proce using any ML Regression algorithm & key features would be \"sq_feet\",\"year_built\",'zipcode','bedrooms' but for simplicity in this excercise we will just fill the values using average values (for example average price of a 100 sq feet -3bhk house in zipcode 98006)"
   ]
  },
  {
   "cell_type": "code",
   "execution_count": 10,
   "metadata": {},
   "outputs": [
    {
     "data": {
      "text/html": [
       "<div>\n",
       "<style>\n",
       "    .dataframe thead tr:only-child th {\n",
       "        text-align: right;\n",
       "    }\n",
       "\n",
       "    .dataframe thead th {\n",
       "        text-align: left;\n",
       "    }\n",
       "\n",
       "    .dataframe tbody tr th {\n",
       "        vertical-align: top;\n",
       "    }\n",
       "</style>\n",
       "<table border=\"1\" class=\"dataframe\">\n",
       "  <thead>\n",
       "    <tr style=\"text-align: right;\">\n",
       "      <th></th>\n",
       "      <th>id</th>\n",
       "      <th>date</th>\n",
       "      <th>price</th>\n",
       "      <th>bedrooms</th>\n",
       "      <th>bathrooms</th>\n",
       "      <th>sq_feet</th>\n",
       "      <th>year_built</th>\n",
       "      <th>zipcode</th>\n",
       "    </tr>\n",
       "  </thead>\n",
       "  <tbody>\n",
       "    <tr>\n",
       "      <th>355</th>\n",
       "      <td>151138861</td>\n",
       "      <td>2012-03-07</td>\n",
       "      <td>0.0</td>\n",
       "      <td>6.0</td>\n",
       "      <td>4.0</td>\n",
       "      <td>NaN</td>\n",
       "      <td>1947.0</td>\n",
       "      <td>98039</td>\n",
       "    </tr>\n",
       "  </tbody>\n",
       "</table>\n",
       "</div>"
      ],
      "text/plain": [
       "            id        date  price  bedrooms  bathrooms  sq_feet  year_built  \\\n",
       "355  151138861  2012-03-07    0.0       6.0        4.0      NaN      1947.0   \n",
       "\n",
       "     zipcode  \n",
       "355    98039  "
      ]
     },
     "execution_count": 10,
     "metadata": {},
     "output_type": "execute_result"
    }
   ],
   "source": [
    "# This is just a simple way to fill the misssing values , in real scenario we will use more features with better algorhtim.\n",
    "for i in data[data['price']==0].index:\n",
    "    bed_no=data.loc[i]['bedrooms']\n",
    "    zip_code=data.loc[i]['zipcode']\n",
    "    pred_price=data['price'][(data['zipcode']==zip_code) & (data['bedrooms']==bed_no)].mean()\n",
    "    #data.loc[i]['price']=pred_price\n",
    "    data.set_value(i, 'price', pred_price)\n",
    "data[data['price']==0].head()"
   ]
  },
  {
   "cell_type": "markdown",
   "metadata": {},
   "source": [
    "#### There is no easier & quick way to find the price of this house because its the only 6 badroom house in zip code 98039 , so lets just skip it for now :( . but in real scenario we would trained & ML algorithm which could do the job ."
   ]
  },
  {
   "cell_type": "code",
   "execution_count": 11,
   "metadata": {},
   "outputs": [
    {
     "data": {
      "text/plain": [
       "<matplotlib.axes._subplots.AxesSubplot at 0x118d07b90>"
      ]
     },
     "execution_count": 11,
     "metadata": {},
     "output_type": "execute_result"
    },
    {
     "data": {
      "image/png": "[encoded data removed]",
      "text/plain": [
       "<matplotlib.figure.Figure at 0x118e0cc50>"
      ]
     },
     "metadata": {},
     "output_type": "display_data"
    }
   ],
   "source": [
    "data=data[data['id']<>151138861]\n",
    "#Missing values\n",
    "plt.figure(figsize=(10,5))\n",
    "x=col\n",
    "p=len(data)\n",
    "y=[]\n",
    "for i in data.columns:\n",
    "    y.append(len(data[data[i]==0]))\n",
    "plt.title('NO 0s in our dataset now!')\n",
    "sns.barplot(x,y)"
   ]
  },
  {
   "cell_type": "markdown",
   "metadata": {},
   "source": [
    "#### 1.4) Missing values"
   ]
  },
  {
   "cell_type": "code",
   "execution_count": 12,
   "metadata": {},
   "outputs": [
    {
     "data": {
      "text/plain": [
       "<matplotlib.axes._subplots.AxesSubplot at 0x11c6215d0>"
      ]
     },
     "execution_count": 12,
     "metadata": {},
     "output_type": "execute_result"
    },
    {
     "data": {
      "image/png": "[encoded data removed]",
      "text/plain": [
       "<matplotlib.figure.Figure at 0x11c614f10>"
      ]
     },
     "metadata": {},
     "output_type": "display_data"
    }
   ],
   "source": [
    "#Missing values\n",
    "plt.figure(figsize=(10,5))\n",
    "x=col\n",
    "p=len(data)\n",
    "y=[]\n",
    "for i in data.columns:\n",
    "    y.append(len(data[data[i].isnull()])*100.0/p)\n",
    "plt.title('% missing values in each columns of dataset')\n",
    "sns.barplot(x,y)"
   ]
  },
  {
   "cell_type": "markdown",
   "metadata": {},
   "source": [
    "##### Calculating approx. value for missing price fields by using the zip_code & bedrooms as feature"
   ]
  },
  {
   "cell_type": "code",
   "execution_count": 13,
   "metadata": {},
   "outputs": [
    {
     "data": {
      "text/html": [
       "<div>\n",
       "<style>\n",
       "    .dataframe thead tr:only-child th {\n",
       "        text-align: right;\n",
       "    }\n",
       "\n",
       "    .dataframe thead th {\n",
       "        text-align: left;\n",
       "    }\n",
       "\n",
       "    .dataframe tbody tr th {\n",
       "        vertical-align: top;\n",
       "    }\n",
       "</style>\n",
       "<table border=\"1\" class=\"dataframe\">\n",
       "  <thead>\n",
       "    <tr style=\"text-align: right;\">\n",
       "      <th></th>\n",
       "      <th>id</th>\n",
       "      <th>date</th>\n",
       "      <th>price</th>\n",
       "      <th>bedrooms</th>\n",
       "      <th>bathrooms</th>\n",
       "      <th>sq_feet</th>\n",
       "      <th>year_built</th>\n",
       "      <th>zipcode</th>\n",
       "    </tr>\n",
       "  </thead>\n",
       "  <tbody>\n",
       "    <tr>\n",
       "      <th>0</th>\n",
       "      <td>12134069</td>\n",
       "      <td>2012-01-01</td>\n",
       "      <td>469995.000000</td>\n",
       "      <td>3.0</td>\n",
       "      <td>NaN</td>\n",
       "      <td>1140.0</td>\n",
       "      <td>1978.0</td>\n",
       "      <td>98045</td>\n",
       "    </tr>\n",
       "    <tr>\n",
       "      <th>1</th>\n",
       "      <td>184970377</td>\n",
       "      <td>2012-01-03</td>\n",
       "      <td>280000.000000</td>\n",
       "      <td>3.0</td>\n",
       "      <td>2.0</td>\n",
       "      <td>1290.0</td>\n",
       "      <td>1957.0</td>\n",
       "      <td>98028</td>\n",
       "    </tr>\n",
       "    <tr>\n",
       "      <th>2</th>\n",
       "      <td>185568959</td>\n",
       "      <td>2012-01-03</td>\n",
       "      <td>425000.000000</td>\n",
       "      <td>3.0</td>\n",
       "      <td>2.0</td>\n",
       "      <td>1650.0</td>\n",
       "      <td>1977.0</td>\n",
       "      <td>98052</td>\n",
       "    </tr>\n",
       "    <tr>\n",
       "      <th>3</th>\n",
       "      <td>142701463</td>\n",
       "      <td>2012-01-03</td>\n",
       "      <td>396000.000000</td>\n",
       "      <td>3.0</td>\n",
       "      <td>2.0</td>\n",
       "      <td>970.0</td>\n",
       "      <td>1968.0</td>\n",
       "      <td>98034</td>\n",
       "    </tr>\n",
       "    <tr>\n",
       "      <th>4</th>\n",
       "      <td>53640425</td>\n",
       "      <td>2012-01-03</td>\n",
       "      <td>833321.704545</td>\n",
       "      <td>4.0</td>\n",
       "      <td>4.0</td>\n",
       "      <td>2720.0</td>\n",
       "      <td>NaN</td>\n",
       "      <td>98115</td>\n",
       "    </tr>\n",
       "  </tbody>\n",
       "</table>\n",
       "</div>"
      ],
      "text/plain": [
       "          id        date          price  bedrooms  bathrooms  sq_feet  \\\n",
       "0   12134069  2012-01-01  469995.000000       3.0        NaN   1140.0   \n",
       "1  184970377  2012-01-03  280000.000000       3.0        2.0   1290.0   \n",
       "2  185568959  2012-01-03  425000.000000       3.0        2.0   1650.0   \n",
       "3  142701463  2012-01-03  396000.000000       3.0        2.0    970.0   \n",
       "4   53640425  2012-01-03  833321.704545       4.0        4.0   2720.0   \n",
       "\n",
       "   year_built  zipcode  \n",
       "0      1978.0    98045  \n",
       "1      1957.0    98028  \n",
       "2      1977.0    98052  \n",
       "3      1968.0    98034  \n",
       "4         NaN    98115  "
      ]
     },
     "execution_count": 13,
     "metadata": {},
     "output_type": "execute_result"
    }
   ],
   "source": [
    "for i in data[data['price'].isnull()].index:\n",
    "    bed_no=data.loc[i]['bedrooms']\n",
    "    zip_code=data.loc[i]['zipcode']\n",
    "    pred_price=data['price'][(data['zipcode']==zip_code) & (data['bedrooms']==bed_no)].mean()\n",
    "    #data.loc[i]['price']=pred_price\n",
    "    data.set_value(i, 'price', pred_price)\n",
    "    \n",
    "# only one house with nan price left just ignore it for simply city\n",
    "data=data[data['id']<>185465170]\n",
    "data.head()"
   ]
  },
  {
   "cell_type": "markdown",
   "metadata": {},
   "source": [
    "##### Calculating approx. value for missing barthrooms field by using the zip_code & bedrooms as feature"
   ]
  },
  {
   "cell_type": "code",
   "execution_count": 14,
   "metadata": {},
   "outputs": [],
   "source": [
    "for i in data[data['bathrooms'].isnull()].index:\n",
    "    bed_no=data.loc[i]['bedrooms']\n",
    "    zip_code=data.loc[i]['zipcode']\n",
    "    pred_price=round(data['bathrooms'][(data['zipcode']==zip_code) & (data['bedrooms']==bed_no)].mean())\n",
    "    data.set_value(i, 'bathrooms', pred_price)"
   ]
  },
  {
   "cell_type": "markdown",
   "metadata": {},
   "source": [
    "##### Calculating approx. value for missing sq_feets field by using the zip_code & bedrooms & barthrooms as feature"
   ]
  },
  {
   "cell_type": "code",
   "execution_count": 15,
   "metadata": {},
   "outputs": [],
   "source": [
    "import math\n",
    "for i in data[data['sq_feet'].isnull()].index:\n",
    "    bed_no=data.loc[i]['bedrooms']\n",
    "    zip_code=data.loc[i]['zipcode']\n",
    "    bath_no=data.loc[i]['bathrooms']\n",
    "    pred_price=data['sq_feet'][(data['zipcode']==zip_code) & (data['bedrooms']==bed_no) & (data['bathrooms']==bath_no)].mean()\n",
    "    if math.isnan(pred_price):\n",
    "        pred_price=data['sq_feet'][(data['zipcode']==zip_code) & (data['bedrooms']==bed_no) ].mean()\n",
    "    data.set_value(i, 'sq_feet', pred_price)\n",
    "data=data[data['id']<>141897859]    "
   ]
  },
  {
   "cell_type": "markdown",
   "metadata": {},
   "source": [
    "##### Missing values now"
   ]
  },
  {
   "cell_type": "code",
   "execution_count": 16,
   "metadata": {},
   "outputs": [
    {
     "data": {
      "text/plain": [
       "<matplotlib.axes._subplots.AxesSubplot at 0x118de2f90>"
      ]
     },
     "execution_count": 16,
     "metadata": {},
     "output_type": "execute_result"
    },
    {
     "data": {
      "image/png": "[encoded data removed]",
      "text/plain": [
       "<matplotlib.figure.Figure at 0x118de2e10>"
      ]
     },
     "metadata": {},
     "output_type": "display_data"
    }
   ],
   "source": [
    "plt.figure(figsize=(10,5))\n",
    "x=col\n",
    "p=len(data)\n",
    "y=[]\n",
    "for i in data.columns:\n",
    "    y.append(len(data[data[i].isnull()])*100.0/p)\n",
    "plt.title('% missing values in each columns of dataset')\n",
    "sns.barplot(x,y)"
   ]
  },
  {
   "cell_type": "markdown",
   "metadata": {},
   "source": [
    "### Filling year_built missing values is not possible here because currently i don't see any feature that could help us to predict the age of missing houses."
   ]
  },
  {
   "cell_type": "markdown",
   "metadata": {},
   "source": [
    "### 2) Renew/New Features\n",
    "#### 2.1) Cost Category(Low,Medium,High,Cost_Outlier)\n",
    "How is the cost of the house as compared to the all other houses in the dataset."
   ]
  },
  {
   "cell_type": "code",
   "execution_count": 17,
   "metadata": {},
   "outputs": [],
   "source": [
    "import numpy as np\n",
    "Q25,Q50, Q75 = np.percentile(data['price'], [25,50,75])\n",
    "cc=[]\n",
    "ncc=[]\n",
    "for i in data['price']:\n",
    "    if i<=Q25:\n",
    "        cc.append('Low')\n",
    "        ncc.append('1')\n",
    "    if i>Q25 and i<=Q50:\n",
    "        cc.append('Medium')\n",
    "        ncc.append('2')\n",
    "    if i>Q50 and i<=Q75:\n",
    "        cc.append('High')\n",
    "        ncc.append('3')\n",
    "    if i>Q75 :\n",
    "        cc.append('Cost_Outlier')\n",
    "        ncc.append('4')\n",
    "data['Cost_Category']=cc\n",
    "data['nCost']=ncc"
   ]
  },
  {
   "cell_type": "markdown",
   "metadata": {},
   "source": [
    "#### 2.2) Size Category (Small, Medium, Big, Size_Outlier)\n",
    "How is the size of the house as compared to the all other houses in the dataset."
   ]
  },
  {
   "cell_type": "code",
   "execution_count": 18,
   "metadata": {
    "collapsed": true
   },
   "outputs": [],
   "source": [
    "import numpy as np\n",
    "Q25,Q50, Q75 = np.percentile(data['sq_feet'], [25,50,75])\n",
    "cc=[]\n",
    "ncc=[]\n",
    "for i in data['sq_feet']:\n",
    "    if i<=Q25:\n",
    "        cc.append('Small')\n",
    "        ncc.append('1')\n",
    "    if i>Q25 and i<=Q50:\n",
    "        cc.append('Medium')\n",
    "        ncc.append('2')\n",
    "    if i>Q50 and i<=Q75:\n",
    "        cc.append('Big')\n",
    "        ncc.append('3')\n",
    "    if i>Q75 :\n",
    "        cc.append('Size_Outlier')\n",
    "        ncc.append('4')\n",
    "data['Size_Category']=cc\n",
    "data['nSc']=ncc"
   ]
  },
  {
   "cell_type": "markdown",
   "metadata": {},
   "source": [
    "#### 2.3) Age (Very_Old, Old, Few_Years, Recent)\n",
    "How is the Age of the house as compared to the all other houses in the dataset."
   ]
  },
  {
   "cell_type": "code",
   "execution_count": 19,
   "metadata": {},
   "outputs": [],
   "source": [
    "import numpy as np\n",
    "Q25,Q50, Q75 = np.percentile(data['year_built'][data['year_built'].notnull()], [25,50,75])\n",
    "data=data.fillna(0)\n",
    "cc=[]\n",
    "ncc=[]\n",
    "for i in data['year_built']:\n",
    "    if i>0 and i<=Q25:\n",
    "        cc.append('Very_Old')\n",
    "        ncc.append('1')\n",
    "    if i>Q25 and i<=Q50:\n",
    "        cc.append('Old')\n",
    "        ncc.append('2')\n",
    "    if i>Q50 and i<=Q75:\n",
    "        cc.append('Few_Years')\n",
    "        ncc.append('3')\n",
    "    if i>Q75 :\n",
    "        cc.append('Recent')\n",
    "        ncc.append('4')\n",
    "    if i==0:\n",
    "        cc.append('unkown')\n",
    "        ncc.append('0')\n",
    "data['Age']=cc\n",
    "data['nAge']=ncc"
   ]
  },
  {
   "cell_type": "markdown",
   "metadata": {},
   "source": [
    "#### 2.4) Bath Bed Ratio\n",
    "How is the Barthroom to Bedroom ration for the house as compared to the all other houses in the dataset."
   ]
  },
  {
   "cell_type": "code",
   "execution_count": 20,
   "metadata": {},
   "outputs": [],
   "source": [
    "k=data['bathrooms']*100.0/data['bedrooms']\n",
    "Q25,Q50, Q75 = np.percentile(k, [25,50,75])\n",
    "cc=[]\n",
    "ncc=[]\n",
    "for i in k:\n",
    "    if i>0 and i<Q25:\n",
    "        cc.append('Low')\n",
    "        ncc.append('1')\n",
    "    if i>=Q25 and i<Q50:\n",
    "        cc.append('Fare')\n",
    "        ncc.append('2')\n",
    "    if i>=Q50 and i<Q75:\n",
    "        cc.append('Good')\n",
    "        ncc.append('3')\n",
    "    if i>=Q75 :\n",
    "        cc.append('Very_Good')\n",
    "        ncc.append('4')\n",
    "data['bb_ratio']=cc\n",
    "data['nbb']=ncc"
   ]
  },
  {
   "cell_type": "markdown",
   "metadata": {},
   "source": [
    "##### How data looks now!"
   ]
  },
  {
   "cell_type": "code",
   "execution_count": 21,
   "metadata": {},
   "outputs": [
    {
     "data": {
      "text/html": [
       "<div>\n",
       "<style>\n",
       "    .dataframe thead tr:only-child th {\n",
       "        text-align: right;\n",
       "    }\n",
       "\n",
       "    .dataframe thead th {\n",
       "        text-align: left;\n",
       "    }\n",
       "\n",
       "    .dataframe tbody tr th {\n",
       "        vertical-align: top;\n",
       "    }\n",
       "</style>\n",
       "<table border=\"1\" class=\"dataframe\">\n",
       "  <thead>\n",
       "    <tr style=\"text-align: right;\">\n",
       "      <th></th>\n",
       "      <th>id</th>\n",
       "      <th>date</th>\n",
       "      <th>price</th>\n",
       "      <th>bedrooms</th>\n",
       "      <th>bathrooms</th>\n",
       "      <th>sq_feet</th>\n",
       "      <th>year_built</th>\n",
       "      <th>zipcode</th>\n",
       "      <th>Cost_Category</th>\n",
       "      <th>nCost</th>\n",
       "      <th>Size_Category</th>\n",
       "      <th>nSc</th>\n",
       "      <th>Age</th>\n",
       "      <th>nAge</th>\n",
       "      <th>bb_ratio</th>\n",
       "      <th>nbb</th>\n",
       "    </tr>\n",
       "  </thead>\n",
       "  <tbody>\n",
       "    <tr>\n",
       "      <th>0</th>\n",
       "      <td>12134069</td>\n",
       "      <td>2012-01-01</td>\n",
       "      <td>469995.000000</td>\n",
       "      <td>3.0</td>\n",
       "      <td>2.0</td>\n",
       "      <td>1140.0</td>\n",
       "      <td>1978.0</td>\n",
       "      <td>98045</td>\n",
       "      <td>High</td>\n",
       "      <td>3</td>\n",
       "      <td>Medium</td>\n",
       "      <td>2</td>\n",
       "      <td>Old</td>\n",
       "      <td>2</td>\n",
       "      <td>Fare</td>\n",
       "      <td>2</td>\n",
       "    </tr>\n",
       "    <tr>\n",
       "      <th>1</th>\n",
       "      <td>184970377</td>\n",
       "      <td>2012-01-03</td>\n",
       "      <td>280000.000000</td>\n",
       "      <td>3.0</td>\n",
       "      <td>2.0</td>\n",
       "      <td>1290.0</td>\n",
       "      <td>1957.0</td>\n",
       "      <td>98028</td>\n",
       "      <td>Low</td>\n",
       "      <td>1</td>\n",
       "      <td>Medium</td>\n",
       "      <td>2</td>\n",
       "      <td>Very_Old</td>\n",
       "      <td>1</td>\n",
       "      <td>Fare</td>\n",
       "      <td>2</td>\n",
       "    </tr>\n",
       "    <tr>\n",
       "      <th>2</th>\n",
       "      <td>185568959</td>\n",
       "      <td>2012-01-03</td>\n",
       "      <td>425000.000000</td>\n",
       "      <td>3.0</td>\n",
       "      <td>2.0</td>\n",
       "      <td>1650.0</td>\n",
       "      <td>1977.0</td>\n",
       "      <td>98052</td>\n",
       "      <td>Medium</td>\n",
       "      <td>2</td>\n",
       "      <td>Big</td>\n",
       "      <td>3</td>\n",
       "      <td>Old</td>\n",
       "      <td>2</td>\n",
       "      <td>Fare</td>\n",
       "      <td>2</td>\n",
       "    </tr>\n",
       "    <tr>\n",
       "      <th>3</th>\n",
       "      <td>142701463</td>\n",
       "      <td>2012-01-03</td>\n",
       "      <td>396000.000000</td>\n",
       "      <td>3.0</td>\n",
       "      <td>2.0</td>\n",
       "      <td>970.0</td>\n",
       "      <td>1968.0</td>\n",
       "      <td>98034</td>\n",
       "      <td>Medium</td>\n",
       "      <td>2</td>\n",
       "      <td>Small</td>\n",
       "      <td>1</td>\n",
       "      <td>Old</td>\n",
       "      <td>2</td>\n",
       "      <td>Fare</td>\n",
       "      <td>2</td>\n",
       "    </tr>\n",
       "    <tr>\n",
       "      <th>4</th>\n",
       "      <td>53640425</td>\n",
       "      <td>2012-01-03</td>\n",
       "      <td>833321.704545</td>\n",
       "      <td>4.0</td>\n",
       "      <td>4.0</td>\n",
       "      <td>2720.0</td>\n",
       "      <td>0.0</td>\n",
       "      <td>98115</td>\n",
       "      <td>Cost_Outlier</td>\n",
       "      <td>4</td>\n",
       "      <td>Size_Outlier</td>\n",
       "      <td>4</td>\n",
       "      <td>unkown</td>\n",
       "      <td>0</td>\n",
       "      <td>Very_Good</td>\n",
       "      <td>4</td>\n",
       "    </tr>\n",
       "    <tr>\n",
       "      <th>5</th>\n",
       "      <td>33756215</td>\n",
       "      <td>2012-01-03</td>\n",
       "      <td>558960.335515</td>\n",
       "      <td>1.0</td>\n",
       "      <td>1.0</td>\n",
       "      <td>711.0</td>\n",
       "      <td>2006.0</td>\n",
       "      <td>98102</td>\n",
       "      <td>High</td>\n",
       "      <td>3</td>\n",
       "      <td>Small</td>\n",
       "      <td>1</td>\n",
       "      <td>Recent</td>\n",
       "      <td>4</td>\n",
       "      <td>Very_Good</td>\n",
       "      <td>4</td>\n",
       "    </tr>\n",
       "    <tr>\n",
       "      <th>6</th>\n",
       "      <td>54054990</td>\n",
       "      <td>2012-01-03</td>\n",
       "      <td>215000.000000</td>\n",
       "      <td>4.0</td>\n",
       "      <td>3.0</td>\n",
       "      <td>1440.0</td>\n",
       "      <td>1985.0</td>\n",
       "      <td>98168</td>\n",
       "      <td>Low</td>\n",
       "      <td>1</td>\n",
       "      <td>Medium</td>\n",
       "      <td>2</td>\n",
       "      <td>Few_Years</td>\n",
       "      <td>3</td>\n",
       "      <td>Good</td>\n",
       "      <td>3</td>\n",
       "    </tr>\n",
       "  </tbody>\n",
       "</table>\n",
       "</div>"
      ],
      "text/plain": [
       "          id        date          price  bedrooms  bathrooms  sq_feet  \\\n",
       "0   12134069  2012-01-01  469995.000000       3.0        2.0   1140.0   \n",
       "1  184970377  2012-01-03  280000.000000       3.0        2.0   1290.0   \n",
       "2  185568959  2012-01-03  425000.000000       3.0        2.0   1650.0   \n",
       "3  142701463  2012-01-03  396000.000000       3.0        2.0    970.0   \n",
       "4   53640425  2012-01-03  833321.704545       4.0        4.0   2720.0   \n",
       "5   33756215  2012-01-03  558960.335515       1.0        1.0    711.0   \n",
       "6   54054990  2012-01-03  215000.000000       4.0        3.0   1440.0   \n",
       "\n",
       "   year_built  zipcode Cost_Category nCost Size_Category nSc        Age nAge  \\\n",
       "0      1978.0    98045          High     3        Medium   2        Old    2   \n",
       "1      1957.0    98028           Low     1        Medium   2   Very_Old    1   \n",
       "2      1977.0    98052        Medium     2           Big   3        Old    2   \n",
       "3      1968.0    98034        Medium     2         Small   1        Old    2   \n",
       "4         0.0    98115  Cost_Outlier     4  Size_Outlier   4     unkown    0   \n",
       "5      2006.0    98102          High     3         Small   1     Recent    4   \n",
       "6      1985.0    98168           Low     1        Medium   2  Few_Years    3   \n",
       "\n",
       "    bb_ratio nbb  \n",
       "0       Fare   2  \n",
       "1       Fare   2  \n",
       "2       Fare   2  \n",
       "3       Fare   2  \n",
       "4  Very_Good   4  \n",
       "5  Very_Good   4  \n",
       "6       Good   3  "
      ]
     },
     "execution_count": 21,
     "metadata": {},
     "output_type": "execute_result"
    }
   ],
   "source": [
    "data.head(7)"
   ]
  },
  {
   "cell_type": "code",
   "execution_count": 22,
   "metadata": {},
   "outputs": [
    {
     "name": "stdout",
     "output_type": "stream",
     "text": [
      "('Unique Bedrooms', array([ 3.,  4.,  1.,  2.,  5.,  6.]))\n",
      "('Unique Barthrooms', array([  2.,   4.,   1.,   3.,   5.,   6.,   7.,   8.,  27.]))\n"
     ]
    }
   ],
   "source": [
    "print('Unique Bedrooms',data['bedrooms'].unique())\n",
    "print('Unique Barthrooms',data['bathrooms'].unique())"
   ]
  },
  {
   "cell_type": "code",
   "execution_count": 23,
   "metadata": {},
   "outputs": [
    {
     "name": "stdout",
     "output_type": "stream",
     "text": [
      "('get rid of 1 outlier id:', 15611    151699838\n",
      "Name: id, dtype: int64)\n"
     ]
    }
   ],
   "source": [
    "print('get rid of 1 outlier id:',data['id'][data['bathrooms']==27])\n",
    "data=data[data['id']<>151699838]"
   ]
  },
  {
   "cell_type": "markdown",
   "metadata": {},
   "source": [
    "#### 2.5) Bed Number\n",
    "Qualitative Evaluation Bedroom numbers keeping single family in minde."
   ]
  },
  {
   "cell_type": "code",
   "execution_count": 24,
   "metadata": {},
   "outputs": [],
   "source": [
    "cc=[]\n",
    "ncc=[]\n",
    "for b in data['bedrooms']:\n",
    "    if b==1:\n",
    "        cc.append('low')\n",
    "        ncc.append('1')\n",
    "    if b==2 or b==3:\n",
    "        cc.append('Fare')\n",
    "        ncc.append('2')\n",
    "        \n",
    "    if b==4 or b==5:\n",
    "        cc.append('Good')\n",
    "        ncc.append('3')\n",
    "    \n",
    "    if b>5:\n",
    "        cc.append('High')\n",
    "        ncc.append('4')\n",
    "        \n",
    "data['Bed_cat']=cc\n",
    "data['nBed']=ncc"
   ]
  },
  {
   "cell_type": "markdown",
   "metadata": {},
   "source": [
    "### 3) ZipCode Evaluation- \n",
    "#### 3.1) Good Deals Counter"
   ]
  },
  {
   "cell_type": "code",
   "execution_count": 27,
   "metadata": {},
   "outputs": [
    {
     "name": "stdout",
     "output_type": "stream",
     "text": [
      "Below is the list of our top 10 recommandations\n"
     ]
    },
    {
     "data": {
      "text/html": [
       "<div>\n",
       "<style>\n",
       "    .dataframe thead tr:only-child th {\n",
       "        text-align: right;\n",
       "    }\n",
       "\n",
       "    .dataframe thead th {\n",
       "        text-align: left;\n",
       "    }\n",
       "\n",
       "    .dataframe tbody tr th {\n",
       "        vertical-align: top;\n",
       "    }\n",
       "</style>\n",
       "<table border=\"1\" class=\"dataframe\">\n",
       "  <thead>\n",
       "    <tr style=\"text-align: right;\">\n",
       "      <th></th>\n",
       "      <th>zipcode</th>\n",
       "      <th>Good_Deal_Count</th>\n",
       "    </tr>\n",
       "  </thead>\n",
       "  <tbody>\n",
       "    <tr>\n",
       "      <th>0</th>\n",
       "      <td>98042</td>\n",
       "      <td>408</td>\n",
       "    </tr>\n",
       "    <tr>\n",
       "      <th>1</th>\n",
       "      <td>98092</td>\n",
       "      <td>372</td>\n",
       "    </tr>\n",
       "    <tr>\n",
       "      <th>2</th>\n",
       "      <td>98038</td>\n",
       "      <td>311</td>\n",
       "    </tr>\n",
       "    <tr>\n",
       "      <th>3</th>\n",
       "      <td>98023</td>\n",
       "      <td>283</td>\n",
       "    </tr>\n",
       "    <tr>\n",
       "      <th>4</th>\n",
       "      <td>98058</td>\n",
       "      <td>253</td>\n",
       "    </tr>\n",
       "    <tr>\n",
       "      <th>5</th>\n",
       "      <td>98001</td>\n",
       "      <td>231</td>\n",
       "    </tr>\n",
       "    <tr>\n",
       "      <th>6</th>\n",
       "      <td>98034</td>\n",
       "      <td>224</td>\n",
       "    </tr>\n",
       "    <tr>\n",
       "      <th>7</th>\n",
       "      <td>98030</td>\n",
       "      <td>215</td>\n",
       "    </tr>\n",
       "    <tr>\n",
       "      <th>8</th>\n",
       "      <td>98031</td>\n",
       "      <td>213</td>\n",
       "    </tr>\n",
       "    <tr>\n",
       "      <th>9</th>\n",
       "      <td>98056</td>\n",
       "      <td>211</td>\n",
       "    </tr>\n",
       "  </tbody>\n",
       "</table>\n",
       "</div>"
      ],
      "text/plain": [
       "   zipcode  Good_Deal_Count\n",
       "0    98042              408\n",
       "1    98092              372\n",
       "2    98038              311\n",
       "3    98023              283\n",
       "4    98058              253\n",
       "5    98001              231\n",
       "6    98034              224\n",
       "7    98030              215\n",
       "8    98031              213\n",
       "9    98056              211"
      ]
     },
     "execution_count": 27,
     "metadata": {},
     "output_type": "execute_result"
    }
   ],
   "source": [
    "zip_codes=pd.DataFrame(columns=['zipcode'])\n",
    "zip_codes['zipcode']=data['zipcode'].unique()\n",
    "lb=[]\n",
    "for zc in zip_codes['zipcode']:\n",
    "    lb.append(len(data[(data['zipcode']==zc)&(data['nCost']<=data['nSc']) & (data['nCost']<=data['nAge']) & (data['nCost']<=data['nbb'])&(data['nCost']<=data['nBed'])]))\n",
    "zip_codes['Good_Deal_Count']=lb   \n",
    "zip_codes=zip_codes.sort_values(by='Good_Deal_Count',ascending=False).reset_index()\n",
    "del zip_codes['index']\n",
    "print('Below is the list of our top 10 recommandations')\n",
    "zip_codes.head(10)"
   ]
  },
  {
   "cell_type": "markdown",
   "metadata": {},
   "source": [
    "#### 3.2) Conclusion\n",
    "Above table shows the zipcodes along with number of good deals avaialble(less price more gain). This results are prouced after making the best utilization of available features in given time limit. In real scenario based on the availablity of more meaningfull features the complete analysis method & results can be very different from above!"
   ]
  },
  {
   "cell_type": "code",
   "execution_count": null,
   "metadata": {
    "collapsed": true
   },
   "outputs": [],
   "source": []
  }
 ],
 "metadata": {
  "kernelspec": {
   "display_name": "Python 2",
   "language": "python",
   "name": "python2"
  },
  "language_info": {
   "codemirror_mode": {
    "name": "ipython",
    "version": 2
   },
   "file_extension": ".py",
   "mimetype": "text/x-python",
   "name": "python",
   "nbconvert_exporter": "python",
   "pygments_lexer": "ipython2",
   "version": "2.7.13"
  }
 },
 "nbformat": 4,
 "nbformat_minor": 2
}
