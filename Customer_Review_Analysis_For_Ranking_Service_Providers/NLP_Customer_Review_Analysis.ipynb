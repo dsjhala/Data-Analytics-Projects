{
 "cells": [
  {
   "cell_type": "markdown",
   "metadata": {},
   "source": [
    "### 1) Compare   the   two   locations   ( 4962_248    and    4962_956 ).   Which   do   you   think   is better?   Which   would   you   prefer   if   deciding   between   these   two   to   buy   a   new   car? Why?\n",
    "\n",
    "#### Solution Steps:\n",
    "     1.1) Basic Approach: Look at mean sentiment & ratings\n",
    "     1.2) TimeLine: How these locations doing recently\n",
    "     1.3) Sentiment Magnitude: how postive & how negative comments are\n",
    "     1.4) Category wise Sentiment Mangintude: how locations doing under each category\n",
    "     1.5) Conclusion\n",
    "     \n",
    "### 2) Create   a   formula   to   ranking   these   100   locations.   Explain   how   you   settled   on   this ranking/formula.   Please   also   share   the   formula   and   the   final   rankings.   (Hint:   do not   just   look   at   average   rating.)\n",
    "\n",
    "#### Solution Steps:\n",
    "     2.1) Identiy Feature \n",
    "     2.2) Determine Weigtage of each feature\n",
    "     2.3) Final Formula & Rank Determination\n",
    "    \n",
    "### 3) Find   at   least   one   location   that   you   think   is   mis-ranked   by   your   algorithm   (i.e.   they should   probably   be   higher   or   lower).   Why   are   they   mis-ranked?   What   might   you do   to   address   that   issue.\n",
    "\n",
    "#### Solution Steps:\n",
    "     3.1) Look For Mis-Ranked Location\n",
    "     3.2) Analyze Features of Mis-Ranked Location\n",
    "     3.3) How to fix!!\n",
    "    \n",
    "---"
   ]
  },
  {
   "cell_type": "markdown",
   "metadata": {},
   "source": [
    "##### Loading Libraries & Joining datasets"
   ]
  },
  {
   "cell_type": "code",
   "execution_count": 20,
   "metadata": {},
   "outputs": [
    {
     "data": {
      "text/html": [
       "<div>\n",
       "<style scoped>\n",
       "    .dataframe tbody tr th:only-of-type {\n",
       "        vertical-align: middle;\n",
       "    }\n",
       "\n",
       "    .dataframe tbody tr th {\n",
       "        vertical-align: top;\n",
       "    }\n",
       "\n",
       "    .dataframe thead th {\n",
       "        text-align: right;\n",
       "    }\n",
       "</style>\n",
       "<table border=\"1\" class=\"dataframe\">\n",
       "  <thead>\n",
       "    <tr style=\"text-align: right;\">\n",
       "      <th></th>\n",
       "      <th>location_id</th>\n",
       "      <th>review_id</th>\n",
       "      <th>date</th>\n",
       "      <th>rating</th>\n",
       "      <th>comment</th>\n",
       "      <th>category</th>\n",
       "      <th>sentiment</th>\n",
       "    </tr>\n",
       "  </thead>\n",
       "  <tbody>\n",
       "    <tr>\n",
       "      <th>0</th>\n",
       "      <td>4962_661</td>\n",
       "      <td>GOOGLE_PLACES_0</td>\n",
       "      <td>2016-10-13</td>\n",
       "      <td>1.0</td>\n",
       "      <td>Very bad service. They don't follow a systemat...</td>\n",
       "      <td>maintenance_service</td>\n",
       "      <td>-1.0</td>\n",
       "    </tr>\n",
       "    <tr>\n",
       "      <th>1</th>\n",
       "      <td>4962_661</td>\n",
       "      <td>GOOGLE_PLACES_1</td>\n",
       "      <td>2017-04-02</td>\n",
       "      <td>5.0</td>\n",
       "      <td>Darren and Mo were awesome in putting me in my...</td>\n",
       "      <td>overall_experience</td>\n",
       "      <td>1.0</td>\n",
       "    </tr>\n",
       "    <tr>\n",
       "      <th>2</th>\n",
       "      <td>4962_661</td>\n",
       "      <td>GOOGLE_PLACES_2</td>\n",
       "      <td>2016-10-01</td>\n",
       "      <td>5.0</td>\n",
       "      <td>My salesman Digsby was great and very helpful ...</td>\n",
       "      <td>buying_a_car</td>\n",
       "      <td>1.0</td>\n",
       "    </tr>\n",
       "  </tbody>\n",
       "</table>\n",
       "</div>"
      ],
      "text/plain": [
       "  location_id        review_id        date  rating  \\\n",
       "0    4962_661  GOOGLE_PLACES_0  2016-10-13     1.0   \n",
       "1    4962_661  GOOGLE_PLACES_1  2017-04-02     5.0   \n",
       "2    4962_661  GOOGLE_PLACES_2  2016-10-01     5.0   \n",
       "\n",
       "                                             comment             category  \\\n",
       "0  Very bad service. They don't follow a systemat...  maintenance_service   \n",
       "1  Darren and Mo were awesome in putting me in my...   overall_experience   \n",
       "2  My salesman Digsby was great and very helpful ...         buying_a_car   \n",
       "\n",
       "   sentiment  \n",
       "0       -1.0  \n",
       "1        1.0  \n",
       "2        1.0  "
      ]
     },
     "execution_count": 20,
     "metadata": {},
     "output_type": "execute_result"
    }
   ],
   "source": [
    "import pandas as pd\n",
    "import matplotlib.pyplot as plt\n",
    "import seaborn as sns\n",
    "import graphlab as gl\n",
    "import datetime \n",
    "import warnings\n",
    "import math\n",
    "warnings.filterwarnings('ignore')\n",
    "%matplotlib inline\n",
    "category=pd.read_csv(\"categories[2][5].csv\")\n",
    "review=pd.read_csv(\"reviews[4][5].csv\")\n",
    "#convert string date to date datatype \n",
    "review['date']=review['date'].apply(lambda x: datetime.date(int(x[0:4]),int(x[5:7]),int(x[8:10])))\n",
    "data=review.join(category.set_index('review_id'),on='review_id',how='inner')\n",
    "data.head(3)"
   ]
  },
  {
   "cell_type": "markdown",
   "metadata": {},
   "source": [
    "#### Solution Steps:\n",
    "#### 1) Compare the two locations ( 4962_248 and 4962_956 ). Which do you think is better? Which would you prefer if deciding between these two to buy a new car? Why?\n",
    "\n",
    "#####     1.1) Naive Approach: Look at mean sentiment & ratings"
   ]
  },
  {
   "cell_type": "code",
   "execution_count": 21,
   "metadata": {},
   "outputs": [
    {
     "name": "stdout",
     "output_type": "stream",
     "text": [
      "-------------------------------Mean Ratings-------------------------------------\n",
      "('Mean Rating for Location 4962_248', 4.657534246575342)\n",
      "('Mean Rating for Location 4962_956', 4.619047619047619)\n",
      "-------------------------------Mean Sentiment-----------------------------------\n",
      "('Mean Sentiment for Location 4962_248', 0.8392857142857143)\n",
      "('Mean Sentiment for Location 4962_956', 0.9)\n"
     ]
    }
   ],
   "source": [
    "print(\"-------------------------------Mean Ratings-------------------------------------\")\n",
    "print(\"Mean Rating for Location 4962_248\",review['rating'][review['location_id']=='4962_248'].mean())\n",
    "print(\"Mean Rating for Location 4962_956\",review['rating'][review['location_id']=='4962_956'].mean())\n",
    "print(\"-------------------------------Mean Sentiment-----------------------------------\")\n",
    "print(\"Mean Sentiment for Location 4962_248\",data['sentiment'][data['location_id']=='4962_248'].mean())\n",
    "print(\"Mean Sentiment for Location 4962_956\",data['sentiment'][data['location_id']=='4962_956'].mean())"
   ]
  },
  {
   "cell_type": "markdown",
   "metadata": {},
   "source": [
    "In above step we calculated mean rating & mean sentiment. we found that in terms of 'mean rating and mean sentiment polarity' there is very slight difference between these locations so these are NOT VERY ACURATE & HELPFUL MEASURES to identify better location!!. \n",
    "\n",
    "---\n",
    "#####     1.2) TimeLine: How these locations doing recently(Last 3 Months!!)"
   ]
  },
  {
   "cell_type": "code",
   "execution_count": 22,
   "metadata": {},
   "outputs": [
    {
     "name": "stdout",
     "output_type": "stream",
     "text": [
      "Recent 3 months location 4962_248 :\n",
      "rating       4.840000\n",
      "sentiment    0.893333\n",
      "dtype: float64\n",
      "Recent 3 months location 4962_956 :\n",
      "rating       4.630372\n",
      "sentiment    0.865330\n",
      "dtype: float64\n",
      "------------------------------------------------------------------\n"
     ]
    }
   ],
   "source": [
    "loc_248=data[data['location_id']=='4962_248'].sort_values(by='date')\n",
    "loc_956=data[data['location_id']=='4962_956'].sort_values(by='date')\n",
    "recent_248=loc_248[loc_248['date']>=datetime.date(2017, 05, 01)]\n",
    "recent_956=loc_956[loc_956['date']>=datetime.date(2017, 05, 01)]\n",
    "print(\"Recent 3 months location 4962_248 :\")\n",
    "print(loc_248[loc_248['date']>=datetime.date(2017, 05, 01)].mean())\n",
    "print(\"Recent 3 months location 4962_956 :\")\n",
    "print(loc_956[loc_956['date']>=datetime.date(2017, 05, 01)].mean())\n",
    "print(\"------------------------------------------------------------------\")"
   ]
  },
  {
   "cell_type": "markdown",
   "metadata": {},
   "source": [
    "In above step we calculated mean rating & sentiment for most recent 3 months. we found that in terms of mean rating and mean sentimenet polarity there is very slight difference between these locations so recently also both off the locations are performaing ALMOST EQUALLY WELL!!.\n",
    "\n",
    "----\n",
    "#####     1.3) Sentiment Magnitude: how postive & how negative comments are \n",
    "\n",
    "     We know whether a comment is +ve or -ve but do we know how much positive or negative in this step we will \n",
    "     find  this sentiment magnitude"
   ]
  },
  {
   "cell_type": "code",
   "execution_count": 25,
   "metadata": {},
   "outputs": [
    {
     "data": {
      "text/html": [
       "<div>\n",
       "<style scoped>\n",
       "    .dataframe tbody tr th:only-of-type {\n",
       "        vertical-align: middle;\n",
       "    }\n",
       "\n",
       "    .dataframe tbody tr th {\n",
       "        vertical-align: top;\n",
       "    }\n",
       "\n",
       "    .dataframe thead th {\n",
       "        text-align: right;\n",
       "    }\n",
       "</style>\n",
       "<table border=\"1\" class=\"dataframe\">\n",
       "  <thead>\n",
       "    <tr style=\"text-align: right;\">\n",
       "      <th></th>\n",
       "      <th>location_id</th>\n",
       "      <th>comment</th>\n",
       "      <th>magnitude</th>\n",
       "    </tr>\n",
       "  </thead>\n",
       "  <tbody>\n",
       "    <tr>\n",
       "      <th>0</th>\n",
       "      <td>4962_661</td>\n",
       "      <td>Very bad service. They don't follow a systemat...</td>\n",
       "      <td>-0.334222</td>\n",
       "    </tr>\n",
       "    <tr>\n",
       "      <th>1</th>\n",
       "      <td>4962_661</td>\n",
       "      <td>Darren and Mo were awesome in putting me in my...</td>\n",
       "      <td>0.972077</td>\n",
       "    </tr>\n",
       "    <tr>\n",
       "      <th>2</th>\n",
       "      <td>4962_661</td>\n",
       "      <td>My salesman Digsby was great and very helpful ...</td>\n",
       "      <td>0.908988</td>\n",
       "    </tr>\n",
       "  </tbody>\n",
       "</table>\n",
       "</div>"
      ],
      "text/plain": [
       "  location_id                                            comment  magnitude\n",
       "0    4962_661  Very bad service. They don't follow a systemat...  -0.334222\n",
       "1    4962_661  Darren and Mo were awesome in putting me in my...   0.972077\n",
       "2    4962_661  My salesman Digsby was great and very helpful ...   0.908988"
      ]
     },
     "execution_count": 25,
     "metadata": {},
     "output_type": "execute_result"
    }
   ],
   "source": [
    "gl_data=gl.SFrame(data)\n",
    "#handling sentiments with 0 polarity. by using rating as a support feature\n",
    "data.loc[((data['rating'] <= 3) & (data['sentiment']==0)), 'sentiment'] = -1\n",
    "data.loc[((data['rating'] > 3) & (data['sentiment']==0)), 'sentiment'] = 1\n",
    "data['magnitude']=gl.sentiment_analysis.create(gl_data, features=['comment']).predict(gl_data)\n",
    "data['magnitude']=data['magnitude']*data['sentiment']\n",
    "data['magnitude']=data['magnitude'].apply(lambda x: -(1+x) if x<0 else x)\n",
    "data.loc[(data['rating'].isnull()) & (data['magnitude']>=0.9),'rating']=5\n",
    "data.loc[(data['rating'].isnull()) & (data['magnitude']>=0.8),'rating']=4\n",
    "data.loc[(data['rating'].isnull()) & (data['magnitude']>=0.7),'rating']=3\n",
    "data.loc[(data['rating'].isnull()) & (data['magnitude']>=0.4),'rating']=2\n",
    "data.loc[(data['rating'].isnull()) & (data['magnitude']<=0.1),'rating']=1\n",
    "data[['location_id','comment','magnitude']].head(3)"
   ]
  },
  {
   "cell_type": "code",
   "execution_count": 26,
   "metadata": {},
   "outputs": [
    {
     "name": "stdout",
     "output_type": "stream",
     "text": [
      "------------------------Magnitude------------------------\n",
      "('Avg Magnitude of comments location 4962_248', 0.8073153195596177)\n",
      "('Avg Magnitude of comments location 4962_956', 0.8395602949511987)\n"
     ]
    }
   ],
   "source": [
    "print(\"------------------------Magnitude------------------------\")\n",
    "print(\"Avg Magnitude of comments location 4962_248\",data['magnitude'][data['location_id']=='4962_248'].mean())\n",
    "print(\"Avg Magnitude of comments location 4962_956\",data['magnitude'][data['location_id']=='4962_956'].mean())"
   ]
  },
  {
   "cell_type": "markdown",
   "metadata": {},
   "source": [
    "#####    1.4) Category wise Sentiment Mangintude: how locations doing under each category"
   ]
  },
  {
   "cell_type": "code",
   "execution_count": 28,
   "metadata": {},
   "outputs": [
    {
     "data": {
      "text/plain": [
       "array(['maintenance_service', 'overall_experience', 'buying_a_car',\n",
       "       'customer_service', 'pricing', 'competence',\n",
       "       'likely_to_recommend_return', 'sales_tactics', 'speed',\n",
       "       'administration', 'test_drive', 'getting_an_appointment',\n",
       "       'financing_a_car', 'parts_purchase'], dtype=object)"
      ]
     },
     "execution_count": 28,
     "metadata": {},
     "output_type": "execute_result"
    }
   ],
   "source": [
    "#Since we are interested in buying a car we can eliminate \"leasing_a_car\" option rest all are helpful in making a purchase decision\n",
    "temp= data[data['category']!='leasing_a_car']\n",
    "temp['category'].unique()"
   ]
  },
  {
   "cell_type": "code",
   "execution_count": 9,
   "metadata": {},
   "outputs": [
    {
     "data": {
      "text/plain": [
       "<matplotlib.axes._subplots.AxesSubplot at 0x10db65390>"
      ]
     },
     "execution_count": 9,
     "metadata": {},
     "output_type": "execute_result"
    },
    {
     "data": {
      "image/png": "[encoded data removed]",
      "text/plain": [
       "<matplotlib.figure.Figure at 0x119a88fd0>"
      ]
     },
     "metadata": {},
     "output_type": "display_data"
    }
   ],
   "source": [
    "fig = plt.gcf()\n",
    "fig.set_size_inches(24,8)\n",
    "plt.title('Location 4962_248')\n",
    "sns.barplot(temp['category'][(temp['location_id']=='4962_248')],temp['magnitude'][temp['location_id']=='4962_248'])"
   ]
  },
  {
   "cell_type": "markdown",
   "metadata": {},
   "source": [
    "##### Data For very important feature \"parts_purchase\" is missing!! We have only 2 reviews for very important feature 'pricing'!!"
   ]
  },
  {
   "cell_type": "code",
   "execution_count": 10,
   "metadata": {},
   "outputs": [
    {
     "data": {
      "text/plain": [
       "<matplotlib.axes._subplots.AxesSubplot at 0x11919d710>"
      ]
     },
     "execution_count": 10,
     "metadata": {},
     "output_type": "execute_result"
    },
    {
     "data": {
      "image/png": "[encoded data removed]",
      "text/plain": [
       "<matplotlib.figure.Figure at 0x1191a5b10>"
      ]
     },
     "metadata": {},
     "output_type": "display_data"
    }
   ],
   "source": [
    "fig = plt.gcf()\n",
    "fig.set_size_inches(25,8)\n",
    "plt.title(\"Location 4962_956\")\n",
    "sns.barplot(temp['category'][temp['location_id']=='4962_956'],temp['magnitude'][temp['location_id']=='4962_956'])"
   ]
  },
  {
   "cell_type": "markdown",
   "metadata": {},
   "source": [
    "##### Data For all important feature to make buying decision is present\n",
    "\n",
    "---\n",
    "#### Lets do a weigthed comparison for each features for both the locations"
   ]
  },
  {
   "cell_type": "code",
   "execution_count": 11,
   "metadata": {},
   "outputs": [
    {
     "data": {
      "text/html": [
       "<div>\n",
       "<style scoped>\n",
       "    .dataframe tbody tr th:only-of-type {\n",
       "        vertical-align: middle;\n",
       "    }\n",
       "\n",
       "    .dataframe tbody tr th {\n",
       "        vertical-align: top;\n",
       "    }\n",
       "\n",
       "    .dataframe thead th {\n",
       "        text-align: right;\n",
       "    }\n",
       "</style>\n",
       "<table border=\"1\" class=\"dataframe\">\n",
       "  <thead>\n",
       "    <tr style=\"text-align: right;\">\n",
       "      <th></th>\n",
       "      <th>category</th>\n",
       "      <th>4962_956</th>\n",
       "      <th>4962_248</th>\n",
       "      <th>winner</th>\n",
       "    </tr>\n",
       "  </thead>\n",
       "  <tbody>\n",
       "    <tr>\n",
       "      <th>0</th>\n",
       "      <td>administration</td>\n",
       "      <td>2.411162</td>\n",
       "      <td>2.359263</td>\n",
       "      <td>4962_956</td>\n",
       "    </tr>\n",
       "    <tr>\n",
       "      <th>1</th>\n",
       "      <td>test_drive</td>\n",
       "      <td>3.786960</td>\n",
       "      <td>0.785287</td>\n",
       "      <td>4962_956</td>\n",
       "    </tr>\n",
       "    <tr>\n",
       "      <th>2</th>\n",
       "      <td>getting_an_appointment</td>\n",
       "      <td>1.837440</td>\n",
       "      <td>-0.083289</td>\n",
       "      <td>4962_956</td>\n",
       "    </tr>\n",
       "    <tr>\n",
       "      <th>3</th>\n",
       "      <td>buying_a_car</td>\n",
       "      <td>8.391894</td>\n",
       "      <td>8.777706</td>\n",
       "      <td>4962_248</td>\n",
       "    </tr>\n",
       "    <tr>\n",
       "      <th>4</th>\n",
       "      <td>pricing</td>\n",
       "      <td>11.066183</td>\n",
       "      <td>0.183578</td>\n",
       "      <td>4962_956</td>\n",
       "    </tr>\n",
       "  </tbody>\n",
       "</table>\n",
       "</div>"
      ],
      "text/plain": [
       "                 category   4962_956  4962_248    winner\n",
       "0          administration   2.411162  2.359263  4962_956\n",
       "1              test_drive   3.786960  0.785287  4962_956\n",
       "2  getting_an_appointment   1.837440 -0.083289  4962_956\n",
       "3            buying_a_car   8.391894  8.777706  4962_248\n",
       "4                 pricing  11.066183  0.183578  4962_956"
      ]
     },
     "execution_count": 11,
     "metadata": {},
     "output_type": "execute_result"
    }
   ],
   "source": [
    "comparison=pd.DataFrame(columns=['category','4962_956','4962_248','winner'])\n",
    "\n",
    "ncat=[]\n",
    "n956=[]\n",
    "n248=[]\n",
    "dict_weight={'maintenance_service':15,'pricing':15,'financing_a_car':15,'buying_a_car':10,'parts_purchase':10,'overall_experience':4,'customer_service':4,'competence':4,'likely_to_recommend_return':4,'sales_tactics':4,'speed':4,'administration':4,'test_drive':4,'getting_an_appointment':3}\n",
    "for cat,weight in zip(dict_weight.keys(),dict_weight.values()):\n",
    "    ncat.append(cat)\n",
    "    try:\n",
    "        n956.append(temp['magnitude'][(temp['category']==cat) & (temp['location_id']=='4962_956')].mean()*weight)\n",
    "    except:\n",
    "        n956.append(0)\n",
    "        \n",
    "    try:\n",
    "        n248.append(temp['magnitude'][(temp['category']==cat) & (temp['location_id']=='4962_248')].mean()*weight)\n",
    "    except:\n",
    "        n248.append(0)\n",
    "comparison['category']=ncat\n",
    "comparison['4962_956']=n956\n",
    "comparison['4962_248']=n248\n",
    "t=0\n",
    "for i,j in zip(comparison['4962_956'],comparison['4962_248']):\n",
    "    if i>=j:\n",
    "        comparison['winner'][t]='4962_956'\n",
    "    else:\n",
    "        comparison['winner'][t]='4962_248'\n",
    "    t+=1\n",
    "comparison.head()"
   ]
  },
  {
   "cell_type": "code",
   "execution_count": 12,
   "metadata": {},
   "outputs": [
    {
     "name": "stdout",
     "output_type": "stream",
     "text": [
      "('Weighted category score of location 4962_956:', 76.79518821068376)\n",
      "('Weighted category score of location 4962_248:', 56.90308122970169)\n"
     ]
    }
   ],
   "source": [
    "#if the values for imporant featues are not present then we will consider it to be 0 for example \"Part_Purchase\"\n",
    "# This will create a major loss to location 4962_248 so in order to have more correct comparison we need this feature for this location\n",
    "comparison=comparison.fillna(0)\n",
    "print(\"Weighted category score of location 4962_956:\",sum(comparison['4962_956']))\n",
    "print(\"Weighted category score of location 4962_248:\",sum(comparison['4962_248']))"
   ]
  },
  {
   "cell_type": "markdown",
   "metadata": {
    "collapsed": true
   },
   "source": [
    "##### 1.5) Conclusion\n",
    "For above analysis done in 1.1,1.2,1.3,1.4 steps of notebook i found that 4962_956 is a better location & would decide to buy a car from this location.\n",
    "\n",
    "##### WHY??\n",
    "##### Overall Average Rating:\n",
    "(location '4962_248 is winner in this part but with very slight margin)<br/>\n",
    "'Mean Rating for Location 4962_248', 4.657534246575342<br/>\n",
    "'Mean Rating for Location 4962_956', 4.619047619047619<br/>\n",
    "\n",
    "##### Overall Average Sentiment(polartiy):\n",
    "(location '4962_249 is winner in this part but with better margin)<br/>\n",
    "('Mean Sentiment for Location 4962_248', 0.8392857142857143)<br/>\n",
    "('Mean Sentiment for Location 4962_956', 0.9)<br/>\n",
    "\n",
    "##### Last 3 months performance:(location '4962_248 is winner in this part but with slight margin)\n",
    "(very few reviews are available for 4962_248 location but 4962_956 had many reivews)<br/>\n",
    "Recent 3 months location 4962_248 :<br/>\n",
    "rating       4.840000<br/>\n",
    "sentiment    0.893333<br/>\n",
    "Recent 3 months location 4962_956 :<br/>\n",
    "rating       4.630372<br/>\n",
    "sentiment    0.865330<br/>\n",
    "\n",
    "##### Overall Sentiment Magintude:(location '4962_249 is winner in this part but with slight margin)\n",
    "('Avg Magnitude of comments location 4962_248', 0.8073153195596177)<br/>\n",
    "('Avg Magnitude of comments location 4962_956', 0.8395602949511987)<br/>\n",
    "\n",
    "##### Category wise weighted score:(location '4962_249 is winner in this part but with good margin)\n",
    "('Weighted category score of location 4962_956:', 76.79518821068376)<br/>\n",
    "('Weighted category score of location 4962_248:', 56.90308122970169)<br/>\n",
    "\n",
    "Apart from above reasons i also noted that location 4962_956 had much more number of reviews than other location which \n",
    "also shows the popularity of this location. with few customers, keeping performance high is easier as compare to performing well consistantly with high volumes of customers.\n",
    "\n",
    "---"
   ]
  },
  {
   "cell_type": "markdown",
   "metadata": {},
   "source": [
    "### 2) Create   a   formula   to   ranking   these   100   locations.   Explain   how   you   settled   on   this ranking/formula.   Please   also   share   the   formula   and   the   final   rankings.   (Hint:   do not   just   look   at   average   rating.)\n",
    "\n",
    "#### Solution Steps:\n",
    "#####     2.1) Identiy Feature :\n",
    "##### I Selected have following 5 features-\n",
    "       1) Overall Mean Rating & Sentiment Magnitude\n",
    "       2) Mean Most Recent Ratings & Sentiment Magnitude(Last 3 Months)\n",
    "       3) Number of Reviews Available\n",
    "       4) Category wise weighted score\n",
    "       \n",
    "---\n",
    "##### 2.2) Weightage of each feature-\n",
    "       Overall Average Rating & Sentiment Magnitude- (Weightage-20)\n",
    "       Most Recent Ratings & Sentiment Magnitude- (Weightage-30)\n",
    "       Number of reviews- (weightage-20)\n",
    "       Category wise weighted score- (weightage-30)\n",
    "       \n",
    "---\n",
    "##### 2.3) Final Formula & Rank Determination-      "
   ]
  },
  {
   "cell_type": "code",
   "execution_count": 13,
   "metadata": {},
   "outputs": [],
   "source": [
    "#Forumual= 20*OverallAvgRating&Sentiment + 30*MostRecentRatings+  20*NumberOfReviews + 30*CategoryWiseWeightedScore\n",
    "Locations=data['location_id'].unique()\n",
    "Rank_Var=[]"
   ]
  },
  {
   "cell_type": "code",
   "execution_count": 14,
   "metadata": {},
   "outputs": [],
   "source": [
    "for loc in Locations:\n",
    "    AvgRating=review['rating'][review['location_id']==loc].mean()\n",
    "    AvgSentiment=data['magnitude'][data['location_id']==loc].mean()\n",
    "    ORatSnt=AvgRating+AvgSentiment\n",
    "    RecentRating=review['rating'][review['date']>=datetime.date(2017, 05, 01)].mean()\n",
    "    RecentSnt=data['magnitude'][data['date']>=datetime.date(2017, 05, 01)].mean()\n",
    "    RRatSnt=RecentRating+RecentSnt\n",
    "    NOR=len(review[review['location_id']==loc])\n",
    "    weighted_score=[]\n",
    "    dict_weight={'maintenance_service':14,'pricing':14,'financing_a_car':14,'buying_a_car':10,'parts_purchase':10,'overall_experience':4,'customer_service':3,'competence':3,'likely_to_recommend_return':3,'sales_tactics':3,'speed':3,'administration':3,'test_drive':3,'getting_an_appointment':3,'leasing_a_car':10}\n",
    "    for cat,weight in zip(dict_weight.keys(),dict_weight.values()):\n",
    "        try:\n",
    "            weighted_score.append(data['magnitude'][(data['category']==cat) & (data['location_id']==loc)].mean()*weight)\n",
    "        except:\n",
    "            weighted_score.append(0)\n",
    "    weighted_score=[value for value in weighted_score if not math.isnan(value)]\n",
    "    score=sum(weighted_score)\n",
    "    Final_Score=20*ORatSnt + 30*RRatSnt + 20*NOR + 30*score\n",
    "    Rank_Var.append(Final_Score)"
   ]
  },
  {
   "cell_type": "code",
   "execution_count": 15,
   "metadata": {},
   "outputs": [],
   "source": [
    "Results=pd.DataFrame(columns=['Location','Rank_Score','Rank'])\n",
    "Results['Location']=Locations\n",
    "Results['Rank_Score']=Rank_Var\n",
    "Results=Results.sort_values(by='Rank_Score',ascending = False).reset_index()\n",
    "Results['Rank']=Results.index\n",
    "del Results['index']"
   ]
  },
  {
   "cell_type": "code",
   "execution_count": 29,
   "metadata": {},
   "outputs": [
    {
     "name": "stdout",
     "output_type": "stream",
     "text": [
      "below are top 5 Ranked Locations:\n"
     ]
    },
    {
     "data": {
      "text/html": [
       "<div>\n",
       "<style scoped>\n",
       "    .dataframe tbody tr th:only-of-type {\n",
       "        vertical-align: middle;\n",
       "    }\n",
       "\n",
       "    .dataframe tbody tr th {\n",
       "        vertical-align: top;\n",
       "    }\n",
       "\n",
       "    .dataframe thead th {\n",
       "        text-align: right;\n",
       "    }\n",
       "</style>\n",
       "<table border=\"1\" class=\"dataframe\">\n",
       "  <thead>\n",
       "    <tr style=\"text-align: right;\">\n",
       "      <th></th>\n",
       "      <th>Location</th>\n",
       "      <th>Rank_Score</th>\n",
       "      <th>Rank</th>\n",
       "    </tr>\n",
       "  </thead>\n",
       "  <tbody>\n",
       "    <tr>\n",
       "      <th>0</th>\n",
       "      <td>4962_665</td>\n",
       "      <td>15223.111979</td>\n",
       "      <td>0</td>\n",
       "    </tr>\n",
       "    <tr>\n",
       "      <th>1</th>\n",
       "      <td>4962_204</td>\n",
       "      <td>11882.792622</td>\n",
       "      <td>1</td>\n",
       "    </tr>\n",
       "    <tr>\n",
       "      <th>2</th>\n",
       "      <td>4962_854</td>\n",
       "      <td>11787.266475</td>\n",
       "      <td>2</td>\n",
       "    </tr>\n",
       "    <tr>\n",
       "      <th>3</th>\n",
       "      <td>4962_772</td>\n",
       "      <td>10482.032136</td>\n",
       "      <td>3</td>\n",
       "    </tr>\n",
       "    <tr>\n",
       "      <th>4</th>\n",
       "      <td>4962_205</td>\n",
       "      <td>10090.326969</td>\n",
       "      <td>4</td>\n",
       "    </tr>\n",
       "  </tbody>\n",
       "</table>\n",
       "</div>"
      ],
      "text/plain": [
       "   Location    Rank_Score  Rank\n",
       "0  4962_665  15223.111979     0\n",
       "1  4962_204  11882.792622     1\n",
       "2  4962_854  11787.266475     2\n",
       "3  4962_772  10482.032136     3\n",
       "4  4962_205  10090.326969     4"
      ]
     },
     "execution_count": 29,
     "metadata": {},
     "output_type": "execute_result"
    }
   ],
   "source": [
    "print(\"below are top 5 Ranked Locations:\")\n",
    "Results[0:5]"
   ]
  },
  {
   "cell_type": "markdown",
   "metadata": {},
   "source": [
    "### 3) Find at least one location that you think is mis-ranked by your algorithm (i.e. they should probably be higher or lower). Why are they mis-ranked? What might you do to address that issue.\n",
    "#####  3.1) Look For Mis-Ranked Location<br/>\n",
    " ##### Few of the Miss Ranked Locations: 4962_237,4962_325,4962_407\n",
    " \n",
    "##### 3.2) Analyze Features of Mis-Ranked Location\n",
    " "
   ]
  },
  {
   "cell_type": "code",
   "execution_count": 31,
   "metadata": {},
   "outputs": [
    {
     "name": "stdout",
     "output_type": "stream",
     "text": [
      "After Looking features for this location i think this location must be at higher Rank!!\n"
     ]
    },
    {
     "data": {
      "text/html": [
       "<div>\n",
       "<style scoped>\n",
       "    .dataframe tbody tr th:only-of-type {\n",
       "        vertical-align: middle;\n",
       "    }\n",
       "\n",
       "    .dataframe tbody tr th {\n",
       "        vertical-align: top;\n",
       "    }\n",
       "\n",
       "    .dataframe thead th {\n",
       "        text-align: right;\n",
       "    }\n",
       "</style>\n",
       "<table border=\"1\" class=\"dataframe\">\n",
       "  <thead>\n",
       "    <tr style=\"text-align: right;\">\n",
       "      <th></th>\n",
       "      <th>location_id</th>\n",
       "      <th>review_id</th>\n",
       "      <th>date</th>\n",
       "      <th>rating</th>\n",
       "      <th>comment</th>\n",
       "      <th>category</th>\n",
       "      <th>sentiment</th>\n",
       "      <th>magnitude</th>\n",
       "    </tr>\n",
       "  </thead>\n",
       "  <tbody>\n",
       "    <tr>\n",
       "      <th>1186</th>\n",
       "      <td>4962_407</td>\n",
       "      <td>FACEBOOK_1186</td>\n",
       "      <td>2017-04-29</td>\n",
       "      <td>5.0</td>\n",
       "      <td>I had never been to Musselman's before yesterd...</td>\n",
       "      <td>competence</td>\n",
       "      <td>1.0</td>\n",
       "      <td>0.999595</td>\n",
       "    </tr>\n",
       "    <tr>\n",
       "      <th>1186</th>\n",
       "      <td>4962_407</td>\n",
       "      <td>FACEBOOK_1186</td>\n",
       "      <td>2017-04-29</td>\n",
       "      <td>5.0</td>\n",
       "      <td>I had never been to Musselman's before yesterd...</td>\n",
       "      <td>likely_to_recommend_return</td>\n",
       "      <td>1.0</td>\n",
       "      <td>0.999735</td>\n",
       "    </tr>\n",
       "    <tr>\n",
       "      <th>1186</th>\n",
       "      <td>4962_407</td>\n",
       "      <td>FACEBOOK_1186</td>\n",
       "      <td>2017-04-29</td>\n",
       "      <td>5.0</td>\n",
       "      <td>I had never been to Musselman's before yesterd...</td>\n",
       "      <td>maintenance_service</td>\n",
       "      <td>1.0</td>\n",
       "      <td>0.999735</td>\n",
       "    </tr>\n",
       "    <tr>\n",
       "      <th>1186</th>\n",
       "      <td>4962_407</td>\n",
       "      <td>FACEBOOK_1186</td>\n",
       "      <td>2017-04-29</td>\n",
       "      <td>5.0</td>\n",
       "      <td>I had never been to Musselman's before yesterd...</td>\n",
       "      <td>overall_experience</td>\n",
       "      <td>1.0</td>\n",
       "      <td>0.999735</td>\n",
       "    </tr>\n",
       "    <tr>\n",
       "      <th>1186</th>\n",
       "      <td>4962_407</td>\n",
       "      <td>FACEBOOK_1186</td>\n",
       "      <td>2017-04-29</td>\n",
       "      <td>5.0</td>\n",
       "      <td>I had never been to Musselman's before yesterd...</td>\n",
       "      <td>speed</td>\n",
       "      <td>1.0</td>\n",
       "      <td>0.999790</td>\n",
       "    </tr>\n",
       "  </tbody>\n",
       "</table>\n",
       "</div>"
      ],
      "text/plain": [
       "     location_id      review_id        date  rating  \\\n",
       "1186    4962_407  FACEBOOK_1186  2017-04-29     5.0   \n",
       "1186    4962_407  FACEBOOK_1186  2017-04-29     5.0   \n",
       "1186    4962_407  FACEBOOK_1186  2017-04-29     5.0   \n",
       "1186    4962_407  FACEBOOK_1186  2017-04-29     5.0   \n",
       "1186    4962_407  FACEBOOK_1186  2017-04-29     5.0   \n",
       "\n",
       "                                                comment  \\\n",
       "1186  I had never been to Musselman's before yesterd...   \n",
       "1186  I had never been to Musselman's before yesterd...   \n",
       "1186  I had never been to Musselman's before yesterd...   \n",
       "1186  I had never been to Musselman's before yesterd...   \n",
       "1186  I had never been to Musselman's before yesterd...   \n",
       "\n",
       "                        category  sentiment  magnitude  \n",
       "1186                  competence        1.0   0.999595  \n",
       "1186  likely_to_recommend_return        1.0   0.999735  \n",
       "1186         maintenance_service        1.0   0.999735  \n",
       "1186          overall_experience        1.0   0.999735  \n",
       "1186                       speed        1.0   0.999790  "
      ]
     },
     "execution_count": 31,
     "metadata": {},
     "output_type": "execute_result"
    }
   ],
   "source": [
    "print(\"After Looking features for this location i think this location must be at higher Rank!!\")\n",
    "data[data['location_id']=='4962_407'].head(5)"
   ]
  },
  {
   "cell_type": "markdown",
   "metadata": {},
   "source": [
    "#####  3.3) How to fix!!\n",
    "  \n",
    "##### Source of Problem:<br> Feature Last 3 months reviews is doing the damage for this locations because these locations don't have many reviews in most recent 3 months in the dataset.\n",
    "\n",
    "##### How fix it:<br>Get More Latest review data for mis-ranked locations OR update our formula to decrease the weigth of latest reviews feature OR we can also remove this feature to see the effect on ranking but it is very import feature because it takes the latest performance of location into account!!"
   ]
  }
 ],
 "metadata": {
  "kernelspec": {
   "display_name": "Python 2",
   "language": "python",
   "name": "python2"
  },
  "language_info": {
   "codemirror_mode": {
    "name": "ipython",
    "version": 2
   },
   "file_extension": ".py",
   "mimetype": "text/x-python",
   "name": "python",
   "nbconvert_exporter": "python",
   "pygments_lexer": "ipython2",
   "version": "2.7.14"
  }
 },
 "nbformat": 4,
 "nbformat_minor": 2
}
